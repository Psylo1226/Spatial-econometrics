{
 "cells": [
  {
   "cell_type": "code",
   "execution_count": 35,
   "metadata": {
    "id": "A-Yo381_XhSX"
   },
   "outputs": [],
   "source": [
    "import pandas as pd\n",
    "import numpy as np\n",
    "import geopandas as gpd\n",
    "import matplotlib.pyplot as plt\n",
    "import statsmodels.api as sm\n",
    "from functools import reduce\n",
    "import seaborn as sns"
   ]
  },
  {
   "cell_type": "code",
   "execution_count": 36,
   "metadata": {
    "id": "TcJH7m6AXhSZ"
   },
   "outputs": [],
   "source": [
    "przestepstwa = pd.read_csv(\"Przestepstwa_pow.csv\")\n",
    "pow = pd.read_csv(\"Przestepstwa_pow.csv\")\n",
    "bezrobotni = pd.read_csv(\"Bezrobotni.csv\")\n",
    "ceny = pd.read_csv(\"Ceny_mieszkan.csv\")\n",
    "dochody = pd.read_csv(\"Dochody_na_mieszkanca.csv\")\n",
    "wynagrodzenie = pd.read_csv(\"Przecietne_wynagrodzenie.csv\")\n",
    "rozwody = pd.read_csv(\"Rozwody_i_separacje.csv\")\n",
    "ludnosc = pd.read_csv(\"Ludnosc.csv\")\n",
    "pow_map = \"powiaty.shp\"\n",
    "#pow_m = gpd.read_file(pow_map)"
   ]
  },
  {
   "cell_type": "code",
   "execution_count": 37,
   "metadata": {
    "id": "R1xBwdDVXhSZ"
   },
   "outputs": [],
   "source": [
    "list = [przestepstwa, bezrobotni, ceny, dochody, wynagrodzenie, rozwody]\n",
    "\n",
    "for i in list:\n",
    "    i.drop(['oid', 'kod KTS', 'powierzchnia', 'rok', 'TERYT', 'Typ powiatu', 'TERYT województwa'], axis=1, inplace=True)"
   ]
  },
  {
   "cell_type": "code",
   "execution_count": 38,
   "metadata": {
    "id": "OtdnQoetXhSa"
   },
   "outputs": [],
   "source": [
    "przestepstwa.rename(columns={\n",
    "    'Przestępstwa stwierdzone przez Policję w zakończonych postępowaniach przygotowawczych|ogółem' : 'Przestepstwa'\n",
    "}, inplace=True)\n",
    "bezrobotni.rename(columns={\n",
    "    'Bezrobotni zarejestrowani pozostający bez pracy dłużej niż 1 rok|ogółem' : 'Bezrobotni'\n",
    "}, inplace=True)\n",
    "ceny.rename(columns={\n",
    "    'Średnia cena lokali mieszkalnych sprzedanych w ramach transakcji rynkowych|ogółem|ogółem' : 'Ceny mieszkan'\n",
    "}, inplace=True)\n",
    "dochody.rename(columns={\n",
    "    'Dochody na 1 mieszkańca|gminy łącznie z miastami na prawach powiatu|ogółem' : 'Dochody na mieszkanca'\n",
    "}, inplace=True)\n",
    "wynagrodzenie.rename(columns={\n",
    "    'Przeciętne miesięczne wynagrodzenia brutto|ogółem' : 'Wynagrodzenie'\n",
    "}, inplace=True)\n",
    "rozwody.rename(columns={\n",
    "    'Rozwody i separacje|rozwody|ogółem' : 'Rozwody i separacje'\n",
    "}, inplace=True)"
   ]
  },
  {
   "cell_type": "code",
   "execution_count": 39,
   "metadata": {
    "colab": {
     "base_uri": "https://localhost:8080/"
    },
    "id": "1gfeBWmXXhSa",
    "outputId": "444f02af-70aa-4fbf-bbcb-3de34bd8bf18"
   },
   "outputs": [
    {
     "name": "stdout",
     "output_type": "stream",
     "text": [
      "                powiat  Ludnosc_powiaty\n",
      "0        bolesławiecki            90103\n",
      "1       dzierżoniowski           100813\n",
      "2            głogowski            89102\n",
      "3             górowski            34870\n",
      "4             jaworski            50116\n",
      "..                 ...              ...\n",
      "375         świdwiński            46724\n",
      "376            wałecki            53039\n",
      "377           Koszalin           107048\n",
      "378           Szczecin           401907\n",
      "379        Świnoujście            40888\n",
      "\n",
      "[380 rows x 2 columns]\n"
     ]
    }
   ],
   "source": [
    "ludnosc.columns = ludnosc.columns.str.strip()\n",
    "\n",
    "ludnosc = pd.DataFrame({\n",
    "    'powiat': ludnosc['Powiaty'],\n",
    "    'Ludnosc_powiaty': ludnosc['Ludnosc']\n",
    "})\n",
    "\n",
    "print(ludnosc)"
   ]
  },
  {
   "cell_type": "code",
   "execution_count": 40,
   "metadata": {
    "id": "_WfegiYmXhSb",
    "outputId": "4d5c07b6-da84-42dc-f5ea-4864f3d519bf"
   },
   "outputs": [
    {
     "data": {
      "text/html": [
       "<div>\n",
       "<style scoped>\n",
       "    .dataframe tbody tr th:only-of-type {\n",
       "        vertical-align: middle;\n",
       "    }\n",
       "\n",
       "    .dataframe tbody tr th {\n",
       "        vertical-align: top;\n",
       "    }\n",
       "\n",
       "    .dataframe thead th {\n",
       "        text-align: right;\n",
       "    }\n",
       "</style>\n",
       "<table border=\"1\" class=\"dataframe\">\n",
       "  <thead>\n",
       "    <tr style=\"text-align: right;\">\n",
       "      <th></th>\n",
       "      <th>powiat</th>\n",
       "      <th>Województwo</th>\n",
       "      <th>Przestepstwa</th>\n",
       "    </tr>\n",
       "  </thead>\n",
       "  <tbody>\n",
       "    <tr>\n",
       "      <th>0</th>\n",
       "      <td>nowosądecki</td>\n",
       "      <td>małopolskie</td>\n",
       "      <td>11958.0</td>\n",
       "    </tr>\n",
       "    <tr>\n",
       "      <th>1</th>\n",
       "      <td>tarnowski</td>\n",
       "      <td>małopolskie</td>\n",
       "      <td>2860.0</td>\n",
       "    </tr>\n",
       "    <tr>\n",
       "      <th>2</th>\n",
       "      <td>gorzowski</td>\n",
       "      <td>lubuskie</td>\n",
       "      <td>1108.0</td>\n",
       "    </tr>\n",
       "    <tr>\n",
       "      <th>3</th>\n",
       "      <td>koniński</td>\n",
       "      <td>wielkopolskie</td>\n",
       "      <td>1163.0</td>\n",
       "    </tr>\n",
       "    <tr>\n",
       "      <th>4</th>\n",
       "      <td>poznański</td>\n",
       "      <td>wielkopolskie</td>\n",
       "      <td>5260.0</td>\n",
       "    </tr>\n",
       "  </tbody>\n",
       "</table>\n",
       "</div>"
      ],
      "text/plain": [
       "        powiat    Województwo  Przestepstwa\n",
       "0  nowosądecki    małopolskie       11958.0\n",
       "1    tarnowski    małopolskie        2860.0\n",
       "2    gorzowski       lubuskie        1108.0\n",
       "3     koniński  wielkopolskie        1163.0\n",
       "4    poznański  wielkopolskie        5260.0"
      ]
     },
     "execution_count": 40,
     "metadata": {},
     "output_type": "execute_result"
    }
   ],
   "source": [
    "przestepstwa.head()"
   ]
  },
  {
   "cell_type": "code",
   "execution_count": 41,
   "metadata": {
    "id": "JHhAU067XhSb"
   },
   "outputs": [],
   "source": [
    "przestepstwa['powiat'] = przestepstwa['powiat'].str.strip()\n",
    "ludnosc['powiat'] = ludnosc['powiat'].str.strip()"
   ]
  },
  {
   "cell_type": "code",
   "execution_count": 42,
   "metadata": {
    "id": "z2KXRQEyXhSc"
   },
   "outputs": [],
   "source": [
    "przestepstwa_merge = przestepstwa.merge(ludnosc, on='powiat')"
   ]
  },
  {
   "cell_type": "code",
   "execution_count": 43,
   "metadata": {
    "id": "ph4xHLvpXhSc"
   },
   "outputs": [],
   "source": [
    "przestepstwa_merge['Przestepstwa_średnia_powiaty'] = (przestepstwa_merge['Przestepstwa']/przestepstwa_merge['Ludnosc_powiaty'])"
   ]
  },
  {
   "cell_type": "code",
   "execution_count": 44,
   "metadata": {
    "id": "rts8tmTmXhSd",
    "outputId": "9356887b-1035-4e01-b9c0-dd63ce9f7bf4"
   },
   "outputs": [
    {
     "name": "stdout",
     "output_type": "stream",
     "text": [
      "           powiat  Przestepstwa_średnia_powiaty\n",
      "0     nowosądecki                      0.055158\n",
      "1       tarnowski                      0.014194\n",
      "2       gorzowski                      0.015424\n",
      "3        koniński                      0.008943\n",
      "4       poznański                      0.013174\n",
      "..            ...                           ...\n",
      "395     siedlecki                      0.009415\n",
      "396    sokołowski                      0.017081\n",
      "397     węgrowski                      0.012260\n",
      "398  sochaczewski                      0.016685\n",
      "399   żyrardowski                      0.021162\n",
      "\n",
      "[400 rows x 2 columns]\n"
     ]
    }
   ],
   "source": [
    "print(przestepstwa_merge[['powiat', 'Przestepstwa_średnia_powiaty']])"
   ]
  },
  {
   "cell_type": "code",
   "execution_count": 45,
   "metadata": {
    "id": "aLlWndJ_XhSd",
    "outputId": "931a59df-58de-4e9f-b9c2-b1b0890e2916"
   },
   "outputs": [
    {
     "data": {
      "text/html": [
       "<div>\n",
       "<style scoped>\n",
       "    .dataframe tbody tr th:only-of-type {\n",
       "        vertical-align: middle;\n",
       "    }\n",
       "\n",
       "    .dataframe tbody tr th {\n",
       "        vertical-align: top;\n",
       "    }\n",
       "\n",
       "    .dataframe thead th {\n",
       "        text-align: right;\n",
       "    }\n",
       "</style>\n",
       "<table border=\"1\" class=\"dataframe\">\n",
       "  <thead>\n",
       "    <tr style=\"text-align: right;\">\n",
       "      <th></th>\n",
       "      <th>powiat</th>\n",
       "      <th>Województwo</th>\n",
       "      <th>Bezrobotni</th>\n",
       "    </tr>\n",
       "  </thead>\n",
       "  <tbody>\n",
       "    <tr>\n",
       "      <th>0</th>\n",
       "      <td>nowosądecki</td>\n",
       "      <td>małopolskie</td>\n",
       "      <td>3256.0</td>\n",
       "    </tr>\n",
       "    <tr>\n",
       "      <th>1</th>\n",
       "      <td>tarnowski</td>\n",
       "      <td>małopolskie</td>\n",
       "      <td>2009.0</td>\n",
       "    </tr>\n",
       "    <tr>\n",
       "      <th>2</th>\n",
       "      <td>gorzowski</td>\n",
       "      <td>lubuskie</td>\n",
       "      <td>402.0</td>\n",
       "    </tr>\n",
       "    <tr>\n",
       "      <th>3</th>\n",
       "      <td>koniński</td>\n",
       "      <td>wielkopolskie</td>\n",
       "      <td>1928.0</td>\n",
       "    </tr>\n",
       "    <tr>\n",
       "      <th>4</th>\n",
       "      <td>poznański</td>\n",
       "      <td>wielkopolskie</td>\n",
       "      <td>913.0</td>\n",
       "    </tr>\n",
       "  </tbody>\n",
       "</table>\n",
       "</div>"
      ],
      "text/plain": [
       "        powiat    Województwo  Bezrobotni\n",
       "0  nowosądecki    małopolskie      3256.0\n",
       "1    tarnowski    małopolskie      2009.0\n",
       "2    gorzowski       lubuskie       402.0\n",
       "3     koniński  wielkopolskie      1928.0\n",
       "4    poznański  wielkopolskie       913.0"
      ]
     },
     "execution_count": 45,
     "metadata": {},
     "output_type": "execute_result"
    }
   ],
   "source": [
    "bezrobotni.head()"
   ]
  },
  {
   "cell_type": "code",
   "execution_count": 46,
   "metadata": {
    "id": "wjCCxFfSXhSd"
   },
   "outputs": [],
   "source": [
    "bezrobotni['powiat'] = bezrobotni['powiat'].str.strip()\n",
    "ludnosc['powiat'] = ludnosc['powiat'].str.strip()"
   ]
  },
  {
   "cell_type": "code",
   "execution_count": 47,
   "metadata": {
    "id": "0xDv70fRXhSd"
   },
   "outputs": [],
   "source": [
    "bezrobotni_merge = bezrobotni.merge(ludnosc, on='powiat')"
   ]
  },
  {
   "cell_type": "code",
   "execution_count": 48,
   "metadata": {
    "id": "bDqf2Kq2XhSd"
   },
   "outputs": [],
   "source": [
    "bezrobotni_merge['Bezrobotni_średnia_powiaty'] = (bezrobotni_merge['Bezrobotni']/bezrobotni_merge['Ludnosc_powiaty'])"
   ]
  },
  {
   "cell_type": "code",
   "execution_count": 49,
   "metadata": {
    "id": "Q-O00OCPXhSd",
    "outputId": "20ac5f6f-06ad-47b4-a04d-d80bfed30ec3"
   },
   "outputs": [
    {
     "name": "stdout",
     "output_type": "stream",
     "text": [
      "           powiat  Bezrobotni_średnia_powiaty\n",
      "0     nowosądecki                    0.015019\n",
      "1       tarnowski                    0.009970\n",
      "2       gorzowski                    0.005596\n",
      "3        koniński                    0.014825\n",
      "4       poznański                    0.002287\n",
      "..            ...                         ...\n",
      "395     siedlecki                    0.007190\n",
      "396    sokołowski                    0.010613\n",
      "397     węgrowski                    0.011987\n",
      "398  sochaczewski                    0.006173\n",
      "399   żyrardowski                    0.020462\n",
      "\n",
      "[400 rows x 2 columns]\n"
     ]
    }
   ],
   "source": [
    "print(bezrobotni_merge[['powiat', 'Bezrobotni_średnia_powiaty']])"
   ]
  },
  {
   "cell_type": "code",
   "execution_count": 50,
   "metadata": {
    "id": "qOXKk-GOXhSe",
    "outputId": "708d6f2d-a55d-4cbf-f475-0d776c30eb89"
   },
   "outputs": [
    {
     "data": {
      "text/html": [
       "<div>\n",
       "<style scoped>\n",
       "    .dataframe tbody tr th:only-of-type {\n",
       "        vertical-align: middle;\n",
       "    }\n",
       "\n",
       "    .dataframe tbody tr th {\n",
       "        vertical-align: top;\n",
       "    }\n",
       "\n",
       "    .dataframe thead th {\n",
       "        text-align: right;\n",
       "    }\n",
       "</style>\n",
       "<table border=\"1\" class=\"dataframe\">\n",
       "  <thead>\n",
       "    <tr style=\"text-align: right;\">\n",
       "      <th></th>\n",
       "      <th>powiat</th>\n",
       "      <th>Województwo</th>\n",
       "      <th>Rozwody i separacje</th>\n",
       "    </tr>\n",
       "  </thead>\n",
       "  <tbody>\n",
       "    <tr>\n",
       "      <th>0</th>\n",
       "      <td>nowosądecki</td>\n",
       "      <td>małopolskie</td>\n",
       "      <td>139.0</td>\n",
       "    </tr>\n",
       "    <tr>\n",
       "      <th>1</th>\n",
       "      <td>tarnowski</td>\n",
       "      <td>małopolskie</td>\n",
       "      <td>175.0</td>\n",
       "    </tr>\n",
       "    <tr>\n",
       "      <th>2</th>\n",
       "      <td>gorzowski</td>\n",
       "      <td>lubuskie</td>\n",
       "      <td>72.0</td>\n",
       "    </tr>\n",
       "    <tr>\n",
       "      <th>3</th>\n",
       "      <td>koniński</td>\n",
       "      <td>wielkopolskie</td>\n",
       "      <td>142.0</td>\n",
       "    </tr>\n",
       "    <tr>\n",
       "      <th>4</th>\n",
       "      <td>poznański</td>\n",
       "      <td>wielkopolskie</td>\n",
       "      <td>427.0</td>\n",
       "    </tr>\n",
       "  </tbody>\n",
       "</table>\n",
       "</div>"
      ],
      "text/plain": [
       "        powiat    Województwo  Rozwody i separacje\n",
       "0  nowosądecki    małopolskie                139.0\n",
       "1    tarnowski    małopolskie                175.0\n",
       "2    gorzowski       lubuskie                 72.0\n",
       "3     koniński  wielkopolskie                142.0\n",
       "4    poznański  wielkopolskie                427.0"
      ]
     },
     "execution_count": 50,
     "metadata": {},
     "output_type": "execute_result"
    }
   ],
   "source": [
    "rozwody.head()"
   ]
  },
  {
   "cell_type": "code",
   "execution_count": 51,
   "metadata": {
    "id": "xz9giWlwXhSe"
   },
   "outputs": [],
   "source": [
    "rozwody['powiat'] = rozwody['powiat'].str.strip()"
   ]
  },
  {
   "cell_type": "code",
   "execution_count": 52,
   "metadata": {
    "id": "Xc_a5K16XhSe"
   },
   "outputs": [],
   "source": [
    "rozwody_merge = rozwody.merge(ludnosc, on='powiat')"
   ]
  },
  {
   "cell_type": "code",
   "execution_count": 53,
   "metadata": {
    "id": "tVuj2-YdXhSe"
   },
   "outputs": [],
   "source": [
    "rozwody_merge['Rozwody_średnia_powiaty'] = (rozwody_merge['Rozwody i separacje']/rozwody_merge['Ludnosc_powiaty'])"
   ]
  },
  {
   "cell_type": "code",
   "execution_count": 54,
   "metadata": {
    "id": "mNXtcx2mXhSe",
    "outputId": "c7043c2c-5eb2-4eac-8c7c-8dc853cadafe"
   },
   "outputs": [
    {
     "name": "stdout",
     "output_type": "stream",
     "text": [
      "           powiat  Rozwody_średnia_powiaty\n",
      "0     nowosądecki                 0.000641\n",
      "1       tarnowski                 0.000868\n",
      "2       gorzowski                 0.001002\n",
      "3        koniński                 0.001092\n",
      "4       poznański                 0.001069\n",
      "..            ...                      ...\n",
      "395     siedlecki                 0.001020\n",
      "396    sokołowski                 0.000911\n",
      "397     węgrowski                 0.000912\n",
      "398  sochaczewski                 0.001329\n",
      "399   żyrardowski                 0.001294\n",
      "\n",
      "[400 rows x 2 columns]\n"
     ]
    }
   ],
   "source": [
    "print(rozwody_merge[['powiat', 'Rozwody_średnia_powiaty']])"
   ]
  },
  {
   "cell_type": "code",
   "execution_count": 55,
   "metadata": {
    "colab": {
     "base_uri": "https://localhost:8080/"
    },
    "id": "eQo37g9gXhSe",
    "outputId": "148b5921-5498-4aa2-b8e2-29018b87cf67"
   },
   "outputs": [
    {
     "name": "stdout",
     "output_type": "stream",
     "text": [
      "           powiat    Województwo  Przestepstwa_średnia_powiaty  \\\n",
      "0     nowosądecki    małopolskie                      0.055158   \n",
      "1       tarnowski    małopolskie                      0.014194   \n",
      "2       gorzowski       lubuskie                      0.015424   \n",
      "3        koniński  wielkopolskie                      0.008943   \n",
      "4       poznański  wielkopolskie                      0.013174   \n",
      "..            ...            ...                           ...   \n",
      "515     siedlecki    mazowieckie                      0.009415   \n",
      "516    sokołowski    mazowieckie                      0.017081   \n",
      "517     węgrowski    mazowieckie                      0.012260   \n",
      "518  sochaczewski    mazowieckie                      0.016685   \n",
      "519   żyrardowski    mazowieckie                      0.021162   \n",
      "\n",
      "     Bezrobotni_średnia_powiaty  Ceny mieszkan  Dochody na mieszkanca  \\\n",
      "0                      0.015019       242497.0                6290.69   \n",
      "1                      0.009970       210957.0                5333.95   \n",
      "2                      0.005596       202519.0                5901.75   \n",
      "3                      0.014825       131116.0                5782.76   \n",
      "4                      0.002287       335041.0                6356.78   \n",
      "..                          ...            ...                    ...   \n",
      "515                    0.007190       361840.0                5748.01   \n",
      "516                    0.010613       200539.0                5743.59   \n",
      "517                    0.011987       166708.0                5942.15   \n",
      "518                    0.006173       197440.0                5911.03   \n",
      "519                    0.020462       231404.0                6346.93   \n",
      "\n",
      "     Wynagrodzenie  Rozwody_średnia_powiaty  \n",
      "0          4160.76                 0.000641  \n",
      "1          4149.11                 0.000868  \n",
      "2          5012.81                 0.001002  \n",
      "3          4184.77                 0.001092  \n",
      "4          4776.27                 0.001069  \n",
      "..             ...                      ...  \n",
      "515        4503.92                 0.001020  \n",
      "516        4792.94                 0.000911  \n",
      "517        4589.75                 0.000912  \n",
      "518        5741.89                 0.001329  \n",
      "519        5113.05                 0.001294  \n",
      "\n",
      "[520 rows x 8 columns]\n"
     ]
    }
   ],
   "source": [
    "files_to_merge = [przestepstwa_merge, bezrobotni_merge, ceny, dochody, wynagrodzenie, rozwody_merge]\n",
    "\n",
    "stats =['powiat', 'Województwo']\n",
    "\n",
    "merged = reduce(lambda left, right: left.merge(right, on=stats, how='inner'), files_to_merge)\n",
    "merged.drop(['Przestepstwa', 'Ludnosc_powiaty_x', 'Bezrobotni', 'Ludnosc_powiaty_y', 'Rozwody i separacje', 'Ludnosc_powiaty'], axis=1, inplace=True)\n",
    "\n",
    "merged.to_csv(\"merged_output.csv\", index=False)\n",
    "\n",
    "print(merged)"
   ]
  },
  {
   "cell_type": "code",
   "execution_count": 56,
   "metadata": {
    "colab": {
     "base_uri": "https://localhost:8080/"
    },
    "id": "9fCaHxTNXhSe",
    "outputId": "3abfd2b7-1600-4f01-ee25-0050f98bb020"
   },
   "outputs": [
    {
     "data": {
      "text/plain": [
       "Index(['powiat', 'Województwo', 'Przestepstwa_średnia_powiaty',\n",
       "       'Bezrobotni_średnia_powiaty', 'Ceny mieszkan', 'Dochody na mieszkanca',\n",
       "       'Wynagrodzenie', 'Rozwody_średnia_powiaty'],\n",
       "      dtype='object')"
      ]
     },
     "execution_count": 56,
     "metadata": {},
     "output_type": "execute_result"
    }
   ],
   "source": [
    "merged.columns"
   ]
  },
  {
   "cell_type": "code",
   "execution_count": 57,
   "metadata": {
    "colab": {
     "base_uri": "https://localhost:8080/",
     "height": 243
    },
    "id": "ffwk9cpVXhSf",
    "outputId": "12b2764d-4e0c-447d-e047-382a2749cf2e"
   },
   "outputs": [
    {
     "data": {
      "text/html": [
       "<div>\n",
       "<style scoped>\n",
       "    .dataframe tbody tr th:only-of-type {\n",
       "        vertical-align: middle;\n",
       "    }\n",
       "\n",
       "    .dataframe tbody tr th {\n",
       "        vertical-align: top;\n",
       "    }\n",
       "\n",
       "    .dataframe thead th {\n",
       "        text-align: right;\n",
       "    }\n",
       "</style>\n",
       "<table border=\"1\" class=\"dataframe\">\n",
       "  <thead>\n",
       "    <tr style=\"text-align: right;\">\n",
       "      <th></th>\n",
       "      <th>powiat</th>\n",
       "      <th>Województwo</th>\n",
       "      <th>Przestepstwa_średnia_powiaty</th>\n",
       "      <th>Bezrobotni_średnia_powiaty</th>\n",
       "      <th>Ceny mieszkan</th>\n",
       "      <th>Dochody na mieszkanca</th>\n",
       "      <th>Wynagrodzenie</th>\n",
       "      <th>Rozwody_średnia_powiaty</th>\n",
       "    </tr>\n",
       "  </thead>\n",
       "  <tbody>\n",
       "    <tr>\n",
       "      <th>0</th>\n",
       "      <td>nowosądecki</td>\n",
       "      <td>małopolskie</td>\n",
       "      <td>0.055158</td>\n",
       "      <td>0.015019</td>\n",
       "      <td>242497.0</td>\n",
       "      <td>6290.69</td>\n",
       "      <td>4160.76</td>\n",
       "      <td>0.000641</td>\n",
       "    </tr>\n",
       "    <tr>\n",
       "      <th>1</th>\n",
       "      <td>tarnowski</td>\n",
       "      <td>małopolskie</td>\n",
       "      <td>0.014194</td>\n",
       "      <td>0.009970</td>\n",
       "      <td>210957.0</td>\n",
       "      <td>5333.95</td>\n",
       "      <td>4149.11</td>\n",
       "      <td>0.000868</td>\n",
       "    </tr>\n",
       "    <tr>\n",
       "      <th>2</th>\n",
       "      <td>gorzowski</td>\n",
       "      <td>lubuskie</td>\n",
       "      <td>0.015424</td>\n",
       "      <td>0.005596</td>\n",
       "      <td>202519.0</td>\n",
       "      <td>5901.75</td>\n",
       "      <td>5012.81</td>\n",
       "      <td>0.001002</td>\n",
       "    </tr>\n",
       "    <tr>\n",
       "      <th>3</th>\n",
       "      <td>koniński</td>\n",
       "      <td>wielkopolskie</td>\n",
       "      <td>0.008943</td>\n",
       "      <td>0.014825</td>\n",
       "      <td>131116.0</td>\n",
       "      <td>5782.76</td>\n",
       "      <td>4184.77</td>\n",
       "      <td>0.001092</td>\n",
       "    </tr>\n",
       "    <tr>\n",
       "      <th>4</th>\n",
       "      <td>poznański</td>\n",
       "      <td>wielkopolskie</td>\n",
       "      <td>0.013174</td>\n",
       "      <td>0.002287</td>\n",
       "      <td>335041.0</td>\n",
       "      <td>6356.78</td>\n",
       "      <td>4776.27</td>\n",
       "      <td>0.001069</td>\n",
       "    </tr>\n",
       "  </tbody>\n",
       "</table>\n",
       "</div>"
      ],
      "text/plain": [
       "        powiat    Województwo  Przestepstwa_średnia_powiaty  \\\n",
       "0  nowosądecki    małopolskie                      0.055158   \n",
       "1    tarnowski    małopolskie                      0.014194   \n",
       "2    gorzowski       lubuskie                      0.015424   \n",
       "3     koniński  wielkopolskie                      0.008943   \n",
       "4    poznański  wielkopolskie                      0.013174   \n",
       "\n",
       "   Bezrobotni_średnia_powiaty  Ceny mieszkan  Dochody na mieszkanca  \\\n",
       "0                    0.015019       242497.0                6290.69   \n",
       "1                    0.009970       210957.0                5333.95   \n",
       "2                    0.005596       202519.0                5901.75   \n",
       "3                    0.014825       131116.0                5782.76   \n",
       "4                    0.002287       335041.0                6356.78   \n",
       "\n",
       "   Wynagrodzenie  Rozwody_średnia_powiaty  \n",
       "0        4160.76                 0.000641  \n",
       "1        4149.11                 0.000868  \n",
       "2        5012.81                 0.001002  \n",
       "3        4184.77                 0.001092  \n",
       "4        4776.27                 0.001069  "
      ]
     },
     "execution_count": 57,
     "metadata": {},
     "output_type": "execute_result"
    }
   ],
   "source": [
    "merged.head()"
   ]
  },
  {
   "cell_type": "code",
   "execution_count": 58,
   "metadata": {
    "colab": {
     "base_uri": "https://localhost:8080/"
    },
    "id": "YXOLL6ZiXhSf",
    "outputId": "c1822a72-99d3-4089-9b4f-c2fc62b65b5c"
   },
   "outputs": [
    {
     "name": "stdout",
     "output_type": "stream",
     "text": [
      "powiat                          0\n",
      "Województwo                     0\n",
      "Przestepstwa_średnia_powiaty    0\n",
      "Bezrobotni_średnia_powiaty      0\n",
      "Ceny mieszkan                   1\n",
      "Dochody na mieszkanca           0\n",
      "Wynagrodzenie                   0\n",
      "Rozwody_średnia_powiaty         0\n",
      "dtype: int64\n"
     ]
    }
   ],
   "source": [
    "print(merged.isnull().sum())"
   ]
  },
  {
   "cell_type": "code",
   "execution_count": 59,
   "metadata": {
    "colab": {
     "base_uri": "https://localhost:8080/"
    },
    "collapsed": true,
    "id": "fVBl_gauXhSf",
    "outputId": "4ddce94d-87a6-4359-f5c5-dac4386c30ec"
   },
   "outputs": [
    {
     "name": "stderr",
     "output_type": "stream",
     "text": [
      "C:\\Users\\xjulc\\AppData\\Local\\Temp\\ipykernel_77504\\4029216478.py:1: FutureWarning: A value is trying to be set on a copy of a DataFrame or Series through chained assignment using an inplace method.\n",
      "The behavior will change in pandas 3.0. This inplace method will never work because the intermediate object on which we are setting values always behaves as a copy.\n",
      "\n",
      "For example, when doing 'df[col].method(value, inplace=True)', try using 'df.method({col: value}, inplace=True)' or df[col] = df[col].method(value) instead, to perform the operation inplace on the original object.\n",
      "\n",
      "\n",
      "  merged['Ceny mieszkan'].fillna(merged['Ceny mieszkan'].mean(), inplace=True)\n"
     ]
    }
   ],
   "source": [
    "merged['Ceny mieszkan'].fillna(merged['Ceny mieszkan'].mean(), inplace=True)"
   ]
  },
  {
   "cell_type": "code",
   "execution_count": 60,
   "metadata": {
    "colab": {
     "base_uri": "https://localhost:8080/"
    },
    "id": "UhFtJVBpXhSf",
    "outputId": "4069fdc6-68a0-478a-a547-c973cf4a7a10"
   },
   "outputs": [
    {
     "name": "stdout",
     "output_type": "stream",
     "text": [
      "powiat                          0\n",
      "Województwo                     0\n",
      "Przestepstwa_średnia_powiaty    0\n",
      "Bezrobotni_średnia_powiaty      0\n",
      "Ceny mieszkan                   0\n",
      "Dochody na mieszkanca           0\n",
      "Wynagrodzenie                   0\n",
      "Rozwody_średnia_powiaty         0\n",
      "dtype: int64\n"
     ]
    }
   ],
   "source": [
    "print(merged.isnull().sum())"
   ]
  },
  {
   "cell_type": "code",
   "execution_count": 61,
   "metadata": {
    "id": "RvQks--zXhSf",
    "outputId": "e268f47d-c4b8-4c96-dd4f-8c4fa8e975c2"
   },
   "outputs": [
    {
     "data": {
      "text/html": [
       "<div>\n",
       "<style scoped>\n",
       "    .dataframe tbody tr th:only-of-type {\n",
       "        vertical-align: middle;\n",
       "    }\n",
       "\n",
       "    .dataframe tbody tr th {\n",
       "        vertical-align: top;\n",
       "    }\n",
       "\n",
       "    .dataframe thead th {\n",
       "        text-align: right;\n",
       "    }\n",
       "</style>\n",
       "<table border=\"1\" class=\"dataframe\">\n",
       "  <thead>\n",
       "    <tr style=\"text-align: right;\">\n",
       "      <th></th>\n",
       "      <th>powiat</th>\n",
       "      <th>Województwo</th>\n",
       "      <th>Przestepstwa_średnia_powiaty</th>\n",
       "      <th>Bezrobotni_średnia_powiaty</th>\n",
       "      <th>Ceny mieszkan</th>\n",
       "      <th>Dochody na mieszkanca</th>\n",
       "      <th>Wynagrodzenie</th>\n",
       "      <th>Rozwody_średnia_powiaty</th>\n",
       "    </tr>\n",
       "  </thead>\n",
       "  <tbody>\n",
       "    <tr>\n",
       "      <th>0</th>\n",
       "      <td>nowosądecki</td>\n",
       "      <td>małopolskie</td>\n",
       "      <td>0.055158</td>\n",
       "      <td>0.015019</td>\n",
       "      <td>242497.0</td>\n",
       "      <td>6290.69</td>\n",
       "      <td>4160.76</td>\n",
       "      <td>0.000641</td>\n",
       "    </tr>\n",
       "    <tr>\n",
       "      <th>1</th>\n",
       "      <td>tarnowski</td>\n",
       "      <td>małopolskie</td>\n",
       "      <td>0.014194</td>\n",
       "      <td>0.009970</td>\n",
       "      <td>210957.0</td>\n",
       "      <td>5333.95</td>\n",
       "      <td>4149.11</td>\n",
       "      <td>0.000868</td>\n",
       "    </tr>\n",
       "    <tr>\n",
       "      <th>2</th>\n",
       "      <td>gorzowski</td>\n",
       "      <td>lubuskie</td>\n",
       "      <td>0.015424</td>\n",
       "      <td>0.005596</td>\n",
       "      <td>202519.0</td>\n",
       "      <td>5901.75</td>\n",
       "      <td>5012.81</td>\n",
       "      <td>0.001002</td>\n",
       "    </tr>\n",
       "    <tr>\n",
       "      <th>3</th>\n",
       "      <td>koniński</td>\n",
       "      <td>wielkopolskie</td>\n",
       "      <td>0.008943</td>\n",
       "      <td>0.014825</td>\n",
       "      <td>131116.0</td>\n",
       "      <td>5782.76</td>\n",
       "      <td>4184.77</td>\n",
       "      <td>0.001092</td>\n",
       "    </tr>\n",
       "    <tr>\n",
       "      <th>4</th>\n",
       "      <td>poznański</td>\n",
       "      <td>wielkopolskie</td>\n",
       "      <td>0.013174</td>\n",
       "      <td>0.002287</td>\n",
       "      <td>335041.0</td>\n",
       "      <td>6356.78</td>\n",
       "      <td>4776.27</td>\n",
       "      <td>0.001069</td>\n",
       "    </tr>\n",
       "    <tr>\n",
       "      <th>...</th>\n",
       "      <td>...</td>\n",
       "      <td>...</td>\n",
       "      <td>...</td>\n",
       "      <td>...</td>\n",
       "      <td>...</td>\n",
       "      <td>...</td>\n",
       "      <td>...</td>\n",
       "      <td>...</td>\n",
       "    </tr>\n",
       "    <tr>\n",
       "      <th>515</th>\n",
       "      <td>siedlecki</td>\n",
       "      <td>mazowieckie</td>\n",
       "      <td>0.009415</td>\n",
       "      <td>0.007190</td>\n",
       "      <td>361840.0</td>\n",
       "      <td>5748.01</td>\n",
       "      <td>4503.92</td>\n",
       "      <td>0.001020</td>\n",
       "    </tr>\n",
       "    <tr>\n",
       "      <th>516</th>\n",
       "      <td>sokołowski</td>\n",
       "      <td>mazowieckie</td>\n",
       "      <td>0.017081</td>\n",
       "      <td>0.010613</td>\n",
       "      <td>200539.0</td>\n",
       "      <td>5743.59</td>\n",
       "      <td>4792.94</td>\n",
       "      <td>0.000911</td>\n",
       "    </tr>\n",
       "    <tr>\n",
       "      <th>517</th>\n",
       "      <td>węgrowski</td>\n",
       "      <td>mazowieckie</td>\n",
       "      <td>0.012260</td>\n",
       "      <td>0.011987</td>\n",
       "      <td>166708.0</td>\n",
       "      <td>5942.15</td>\n",
       "      <td>4589.75</td>\n",
       "      <td>0.000912</td>\n",
       "    </tr>\n",
       "    <tr>\n",
       "      <th>518</th>\n",
       "      <td>sochaczewski</td>\n",
       "      <td>mazowieckie</td>\n",
       "      <td>0.016685</td>\n",
       "      <td>0.006173</td>\n",
       "      <td>197440.0</td>\n",
       "      <td>5911.03</td>\n",
       "      <td>5741.89</td>\n",
       "      <td>0.001329</td>\n",
       "    </tr>\n",
       "    <tr>\n",
       "      <th>519</th>\n",
       "      <td>żyrardowski</td>\n",
       "      <td>mazowieckie</td>\n",
       "      <td>0.021162</td>\n",
       "      <td>0.020462</td>\n",
       "      <td>231404.0</td>\n",
       "      <td>6346.93</td>\n",
       "      <td>5113.05</td>\n",
       "      <td>0.001294</td>\n",
       "    </tr>\n",
       "  </tbody>\n",
       "</table>\n",
       "<p>520 rows × 8 columns</p>\n",
       "</div>"
      ],
      "text/plain": [
       "           powiat    Województwo  Przestepstwa_średnia_powiaty  \\\n",
       "0     nowosądecki    małopolskie                      0.055158   \n",
       "1       tarnowski    małopolskie                      0.014194   \n",
       "2       gorzowski       lubuskie                      0.015424   \n",
       "3        koniński  wielkopolskie                      0.008943   \n",
       "4       poznański  wielkopolskie                      0.013174   \n",
       "..            ...            ...                           ...   \n",
       "515     siedlecki    mazowieckie                      0.009415   \n",
       "516    sokołowski    mazowieckie                      0.017081   \n",
       "517     węgrowski    mazowieckie                      0.012260   \n",
       "518  sochaczewski    mazowieckie                      0.016685   \n",
       "519   żyrardowski    mazowieckie                      0.021162   \n",
       "\n",
       "     Bezrobotni_średnia_powiaty  Ceny mieszkan  Dochody na mieszkanca  \\\n",
       "0                      0.015019       242497.0                6290.69   \n",
       "1                      0.009970       210957.0                5333.95   \n",
       "2                      0.005596       202519.0                5901.75   \n",
       "3                      0.014825       131116.0                5782.76   \n",
       "4                      0.002287       335041.0                6356.78   \n",
       "..                          ...            ...                    ...   \n",
       "515                    0.007190       361840.0                5748.01   \n",
       "516                    0.010613       200539.0                5743.59   \n",
       "517                    0.011987       166708.0                5942.15   \n",
       "518                    0.006173       197440.0                5911.03   \n",
       "519                    0.020462       231404.0                6346.93   \n",
       "\n",
       "     Wynagrodzenie  Rozwody_średnia_powiaty  \n",
       "0          4160.76                 0.000641  \n",
       "1          4149.11                 0.000868  \n",
       "2          5012.81                 0.001002  \n",
       "3          4184.77                 0.001092  \n",
       "4          4776.27                 0.001069  \n",
       "..             ...                      ...  \n",
       "515        4503.92                 0.001020  \n",
       "516        4792.94                 0.000911  \n",
       "517        4589.75                 0.000912  \n",
       "518        5741.89                 0.001329  \n",
       "519        5113.05                 0.001294  \n",
       "\n",
       "[520 rows x 8 columns]"
      ]
     },
     "execution_count": 61,
     "metadata": {},
     "output_type": "execute_result"
    }
   ],
   "source": [
    "merged"
   ]
  },
  {
   "cell_type": "code",
   "execution_count": 62,
   "metadata": {
    "colab": {
     "base_uri": "https://localhost:8080/"
    },
    "id": "JW0YOq-wXhSf",
    "outputId": "2869e09e-db00-4ec8-cd38-49086eb9310e"
   },
   "outputs": [
    {
     "name": "stdout",
     "output_type": "stream",
     "text": [
      "                                 OLS Regression Results                                 \n",
      "========================================================================================\n",
      "Dep. Variable:     Przestepstwa_średnia_powiaty   R-squared:                       0.151\n",
      "Model:                                      OLS   Adj. R-squared:                  0.143\n",
      "Method:                           Least Squares   F-statistic:                     18.34\n",
      "Date:                          Wed, 11 Dec 2024   Prob (F-statistic):           8.99e-17\n",
      "Time:                                  23:18:49   Log-Likelihood:                 1557.0\n",
      "No. Observations:                           520   AIC:                            -3102.\n",
      "Df Residuals:                               514   BIC:                            -3077.\n",
      "Df Model:                                     5                                         \n",
      "Covariance Type:                      nonrobust                                         \n",
      "==============================================================================================\n",
      "                                 coef    std err          t      P>|t|      [0.025      0.975]\n",
      "----------------------------------------------------------------------------------------------\n",
      "const                          0.0193      0.001     36.153      0.000       0.018       0.020\n",
      "Bezrobotni_średnia_powiaty    -0.0012      0.001     -2.179      0.030      -0.002      -0.000\n",
      "Ceny mieszkan                 -0.0014      0.001     -1.998      0.046      -0.003   -2.25e-05\n",
      "Dochody na mieszkanca          0.0029      0.001      4.472      0.000       0.002       0.004\n",
      "Wynagrodzenie                  0.0010      0.001      1.543      0.123      -0.000       0.002\n",
      "Rozwody_średnia_powiaty        0.0033      0.001      5.974      0.000       0.002       0.004\n",
      "==============================================================================\n",
      "Omnibus:                      688.876   Durbin-Watson:                   1.760\n",
      "Prob(Omnibus):                  0.000   Jarque-Bera (JB):           110064.400\n",
      "Skew:                           6.597   Prob(JB):                         0.00\n",
      "Kurtosis:                      73.041   Cond. No.                         2.22\n",
      "==============================================================================\n",
      "\n",
      "Notes:\n",
      "[1] Standard Errors assume that the covariance matrix of the errors is correctly specified.\n"
     ]
    }
   ],
   "source": [
    "X = merged[['Bezrobotni_średnia_powiaty', 'Ceny mieszkan', 'Dochody na mieszkanca',\n",
    "       'Wynagrodzenie', 'Rozwody_średnia_powiaty']]\n",
    "X = sm.add_constant(X)\n",
    "y = merged['Przestepstwa_średnia_powiaty']\n",
    "\n",
    "from sklearn.preprocessing import StandardScaler\n",
    "scaler = StandardScaler()\n",
    "\n",
    "X['Ceny mieszkan'] = scaler.fit_transform(X[['Ceny mieszkan']])\n",
    "X['Bezrobotni_średnia_powiaty'] = scaler.fit_transform(X[['Bezrobotni_średnia_powiaty']])\n",
    "X['Dochody na mieszkanca'] = scaler.fit_transform(X[['Dochody na mieszkanca']])\n",
    "X['Wynagrodzenie'] = scaler.fit_transform(X[['Wynagrodzenie']])\n",
    "X['Rozwody_średnia_powiaty'] = scaler.fit_transform(X[['Rozwody_średnia_powiaty']])\n",
    "\n",
    "model = sm.OLS(y, X).fit()\n",
    "print(model.summary())"
   ]
  },
  {
   "cell_type": "code",
   "execution_count": null,
   "metadata": {
    "colab": {
     "base_uri": "https://localhost:8080/"
    },
    "id": "6fTi3gvHO-eE",
    "outputId": "40c0a2af-8938-4fde-a61e-0f8c3e0ef2e6"
   },
   "outputs": [
    {
     "ename": "AttributeError",
     "evalue": "'LinearRegression' object has no attribute 'resid'",
     "output_type": "error",
     "traceback": [
      "\u001b[1;31m---------------------------------------------------------------------------\u001b[0m",
      "\u001b[1;31mAttributeError\u001b[0m                            Traceback (most recent call last)",
      "Cell \u001b[1;32mIn[89], line 5\u001b[0m\n\u001b[0;32m      3\u001b[0m \u001b[38;5;28;01mfrom\u001b[39;00m \u001b[38;5;21;01mstatsmodels\u001b[39;00m\u001b[38;5;21;01m.\u001b[39;00m\u001b[38;5;21;01mstats\u001b[39;00m\u001b[38;5;21;01m.\u001b[39;00m\u001b[38;5;21;01mdiagnostic\u001b[39;00m \u001b[38;5;28;01mimport\u001b[39;00m breaks_cusumolsresid\n\u001b[0;32m      4\u001b[0m \u001b[38;5;28;01mfrom\u001b[39;00m \u001b[38;5;21;01msklearn\u001b[39;00m\u001b[38;5;21;01m.\u001b[39;00m\u001b[38;5;21;01mlinear_model\u001b[39;00m \u001b[38;5;28;01mimport\u001b[39;00m LinearRegression\n\u001b[1;32m----> 5\u001b[0m c_stat,c_crit, c_p_value \u001b[38;5;241m=\u001b[39m breaks_cusumolsresid(\u001b[43mmodel\u001b[49m\u001b[38;5;241;43m.\u001b[39;49m\u001b[43mresid\u001b[49m)\n\u001b[0;32m      6\u001b[0m \u001b[38;5;28mprint\u001b[39m(\u001b[38;5;124mf\u001b[39m\u001b[38;5;124m\"\u001b[39m\u001b[38;5;124mStatystyka: \u001b[39m\u001b[38;5;132;01m{\u001b[39;00mc_stat\u001b[38;5;132;01m}\u001b[39;00m\u001b[38;5;124m, wartość krytyczna: \u001b[39m\u001b[38;5;132;01m{\u001b[39;00mc_crit\u001b[38;5;132;01m}\u001b[39;00m\u001b[38;5;124m, p-value: \u001b[39m\u001b[38;5;132;01m{\u001b[39;00mc_p_value\u001b[38;5;132;01m}\u001b[39;00m\u001b[38;5;124m\"\u001b[39m)\n",
      "\u001b[1;31mAttributeError\u001b[0m: 'LinearRegression' object has no attribute 'resid'"
     ]
    }
   ],
   "source": [
    "# Test CUSUM\n",
    "from statsmodels.stats.diagnostic import breaks_cusumolsresid\n",
    "c_stat,c_crit, c_p_value = breaks_cusumolsresid(model.resid)\n",
    "print(f\"Statystyka: {c_stat}, wartość krytyczna: {c_crit}, p-value: {c_p_value}\")"
   ]
  },
  {
   "cell_type": "code",
   "execution_count": 64,
   "metadata": {
    "colab": {
     "base_uri": "https://localhost:8080/",
     "height": 472
    },
    "id": "yQvOqalsXhSg",
    "outputId": "3cb4744c-7a47-4d6d-b45f-3744e8e0c416"
   },
   "outputs": [
    {
     "data": {
      "image/png": "[encoded data removed]",
      "text/plain": [
       "<Figure size 640x480 with 1 Axes>"
      ]
     },
     "metadata": {},
     "output_type": "display_data"
    }
   ],
   "source": [
    "residuals = model.resid\n",
    "\n",
    "sns.histplot(residuals, kde=True)\n",
    "plt.title(\"Reszty modelu\")\n",
    "plt.xlabel(\"Reszty\")\n",
    "plt.show()\n"
   ]
  },
  {
   "cell_type": "code",
   "execution_count": 65,
   "metadata": {
    "colab": {
     "base_uri": "https://localhost:8080/"
    },
    "id": "FQ13Bk-XXhSg",
    "outputId": "fb646881-2678-4a14-fb5b-edd333530064"
   },
   "outputs": [
    {
     "name": "stdout",
     "output_type": "stream",
     "text": [
      "R2: 0.09619265033721058\n",
      "MSE: 7.514167317723949e-05\n",
      "                      Feature  Coefficient\n",
      "0                       const     0.000000\n",
      "1  Bezrobotni_średnia_powiaty    -0.001292\n",
      "2               Ceny mieszkan    -0.002071\n",
      "3       Dochody na mieszkanca     0.003270\n",
      "4               Wynagrodzenie     0.001840\n",
      "5     Rozwody_średnia_powiaty     0.003014\n"
     ]
    }
   ],
   "source": [
    "from sklearn.linear_model import LinearRegression\n",
    "from sklearn.model_selection import train_test_split\n",
    "from sklearn.metrics import mean_squared_error, r2_score\n",
    "\n",
    "X_train, X_test, y_train, y_test = train_test_split(X, y, test_size=0.2, random_state=42)\n",
    "\n",
    "model = LinearRegression()\n",
    "model.fit(X_train, y_train)\n",
    "\n",
    "y_pred = model.predict(X_test)\n",
    "\n",
    "print(\"R2:\", r2_score(y_test, y_pred))\n",
    "print(\"MSE:\", mean_squared_error(y_test, y_pred))\n",
    "\n",
    "coefficients = pd.DataFrame({'Feature': X.columns, 'Coefficient': model.coef_})\n",
    "print(coefficients)\n"
   ]
  },
  {
   "cell_type": "code",
   "execution_count": 66,
   "metadata": {
    "id": "rE_XHpMFLnCh"
   },
   "outputs": [],
   "source": [
    "northern_counties = [\n",
    "    'koszaliński', 'drawski', 'myśliborski', 'wałecki', 'Słupsk', 'Świnoujście', \n",
    "    'nowodworski', 'Gdańsk', 'Gdynia', 'Sopot', 'chojnicki', 'gołdapski', \n",
    "    'węgorzewski', 'Olsztyn', 'białogardzki', 'kołobrzeski', 'sławieński', \n",
    "    'Koszalin', 'choszczeński', 'pyrzycki', 'szczecinecki', 'świdwiński', \n",
    "    'łobeski', 'Szczecin', 'goleniowski', 'gryficki', 'gryfiński', 'kamieński', \n",
    "    'policki', 'stargardzki', 'gdański', 'kartuski', 'pucki', 'wejherowski', \n",
    "    'bytowski', 'lęborski', 'słupski', 'kwidzyński', 'malborski', 'starogardzki', \n",
    "    'tczewski', 'sztumski', 'człuchowski', 'kościerski', 'braniewski', \n",
    "    'działdowski', 'elbląski', 'iławski', 'nowomiejski', 'ostródzki', 'Elbląg', \n",
    "    'ełcki', 'giżycki', 'olecki', 'piski', 'bartoszycki', 'kętrzyński', \n",
    "    'lidzbarski', 'mrągowski', 'nidzicki', 'olsztyński', 'szczycieński'\n",
    "]\n",
    "\n",
    "southern_counties = [\n",
    "    'nowosądecki', 'tarnowski', 'dzierżoniowski', 'ząbkowicki', 'Piekary Śląskie', \n",
    "    'nowotarski', 'krakowski', 'Tarnów', 'częstochowski', 'opolski', 'chrzanowski', \n",
    "    'Gliwice', 'Zabrze', 'Chorzów', 'Katowice', 'Mysłowice', 'Ruda Śląska', \n",
    "    'Siemianowice Śląskie', 'Świętochłowice', 'Jastrzębie-Zdrój', 'Rybnik', \n",
    "    'Żory', 'Sosnowiec', 'mikołowski', 'Tychy', 'wołowski', 'Wrocław', 'bocheński', \n",
    "    'miechowski', 'myślenicki', 'proszowicki', 'wielicki', 'Kraków', 'gorlicki', \n",
    "    'limanowski', 'Nowy Sącz', 'olkuski', 'oświęcimski', 'wadowicki', 'brzeski', \n",
    "    'dąbrowski', 'suski', 'tatrzański', 'bielski', 'cieszyński', 'żywiecki', \n",
    "    'Bielsko-Biała', 'lubliniecki', 'tarnogórski', 'Bytom', 'kłobucki', 'myszkowski', \n",
    "    'Częstochowa', 'gliwicki', 'raciborski', 'rybnicki', 'wodzisławski', \n",
    "    'będziński', 'zawierciański', 'Dąbrowa Górnicza', 'Jaworzno', 'pszczyński', \n",
    "    'bieruńsko-lędziński', 'bolesławiecki', 'jaworski', 'jeleniogórski', \n",
    "    'kamiennogórski', 'lubański', 'lwówecki', 'zgorzelecki', 'złotoryjski', \n",
    "    'Jelenia Góra', 'głogowski', 'górowski', 'legnicki', 'lubiński', 'polkowicki', \n",
    "    'Legnica', 'kłodzki', 'świdnicki', 'wałbrzyski', 'Wałbrzych', 'milicki', \n",
    "    'oleśnicki', 'oławski', 'strzeliński', 'średzki', 'trzebnicki', 'wrocławski', \n",
    "    'brzeski', 'głubczycki', 'namysłowski', 'nyski', 'prudnicki', \n",
    "    'kędzierzyńsko-kozielski', 'kluczborski', 'krapkowicki', 'oleski', 'strzelecki', \n",
    "    'Opole'\n",
    "]"
   ]
  },
  {
   "cell_type": "code",
   "execution_count": 67,
   "metadata": {},
   "outputs": [],
   "source": [
    "powiat_list = merged['powiat'].unique().tolist()"
   ]
  },
  {
   "cell_type": "code",
   "execution_count": 68,
   "metadata": {},
   "outputs": [],
   "source": [
    "northern_merged = merged[merged['powiat'].isin(northern_counties)]\n",
    "southern_merged = merged[merged['powiat'].isin(southern_counties)]"
   ]
  },
  {
   "cell_type": "code",
   "execution_count": null,
   "metadata": {},
   "outputs": [
    {
     "name": "stdout",
     "output_type": "stream",
     "text": [
      "Chow Test Statistic: 37.641482830429375\n"
     ]
    }
   ],
   "source": [
    "pooled_model = sm.OLS(y, X).fit()\n",
    "RSS_pooled = np.sum(pooled_model.resid ** 2)\n",
    "\n",
    "X_north = sm.add_constant(northern_merged[['Bezrobotni_średnia_powiaty', 'Ceny mieszkan', 'Dochody na mieszkanca',\n",
    "       'Wynagrodzenie', 'Rozwody_średnia_powiaty']])\n",
    "y_north = northern_merged['Przestepstwa_średnia_powiaty']\n",
    "north_model = sm.OLS(y_north, X_north).fit()\n",
    "RSS_north = np.sum(north_model.resid ** 2)\n",
    "\n",
    "X_south = sm.add_constant(southern_merged[['Bezrobotni_średnia_powiaty', 'Ceny mieszkan', 'Dochody na mieszkanca',\n",
    "       'Wynagrodzenie', 'Rozwody_średnia_powiaty']])\n",
    "y_south = southern_merged['Przestepstwa_średnia_powiaty']\n",
    "south_model = sm.OLS(y_south, X_south).fit()\n",
    "RSS_south = np.sum(south_model.resid ** 2)\n",
    "\n",
    "n_north = len(northern_merged)\n",
    "n_south = len(southern_merged)\n",
    "k = len(X.columns)  \n",
    "\n",
    "F_statistic = ((RSS_pooled - (RSS_north + RSS_south)) / k) / ((RSS_north + RSS_south) / (n_north + n_south - 2 * k))\n",
    "\n",
    "print(f\"Chow Test Statistic: {F_statistic}\")"
   ]
  },
  {
   "cell_type": "code",
   "execution_count": null,
   "metadata": {},
   "outputs": [
    {
     "name": "stdout",
     "output_type": "stream",
     "text": [
      "P-value: 1.1102230246251565e-16\n"
     ]
    }
   ],
   "source": [
    "from scipy.stats import f\n",
    "\n",
    "df1 = k  \n",
    "df2 = n_north + n_south - 2 * k  \n",
    "p_value = 1 - f.cdf(F_statistic, df1, df2)\n",
    "\n",
    "print(f\"P-value: {p_value}\")"
   ]
  },
  {
   "cell_type": "code",
   "execution_count": null,
   "metadata": {},
   "outputs": [
    {
     "name": "stdout",
     "output_type": "stream",
     "text": [
      "Critical F-value (5% significance): 2.1366390836604285\n"
     ]
    }
   ],
   "source": [
    "critical_value = f.ppf(0.95, df1, df2)\n",
    "print(f\"Critical F-value (5% significance): {critical_value}\")"
   ]
  },
  {
   "cell_type": "code",
   "execution_count": 73,
   "metadata": {},
   "outputs": [
    {
     "data": {
      "text/html": [
       "<div>\n",
       "<style scoped>\n",
       "    .dataframe tbody tr th:only-of-type {\n",
       "        vertical-align: middle;\n",
       "    }\n",
       "\n",
       "    .dataframe tbody tr th {\n",
       "        vertical-align: top;\n",
       "    }\n",
       "\n",
       "    .dataframe thead th {\n",
       "        text-align: right;\n",
       "    }\n",
       "</style>\n",
       "<table border=\"1\" class=\"dataframe\">\n",
       "  <thead>\n",
       "    <tr style=\"text-align: right;\">\n",
       "      <th></th>\n",
       "      <th>powiat</th>\n",
       "      <th>Województwo</th>\n",
       "      <th>Przestepstwa_średnia_powiaty</th>\n",
       "      <th>Bezrobotni_średnia_powiaty</th>\n",
       "      <th>Ceny mieszkan</th>\n",
       "      <th>Dochody na mieszkanca</th>\n",
       "      <th>Wynagrodzenie</th>\n",
       "      <th>Rozwody_średnia_powiaty</th>\n",
       "    </tr>\n",
       "  </thead>\n",
       "  <tbody>\n",
       "    <tr>\n",
       "      <th>5</th>\n",
       "      <td>koszaliński</td>\n",
       "      <td>zachodniopomorskie</td>\n",
       "      <td>0.013252</td>\n",
       "      <td>0.018682</td>\n",
       "      <td>276635.0</td>\n",
       "      <td>6255.58</td>\n",
       "      <td>4616.89</td>\n",
       "      <td>0.001068</td>\n",
       "    </tr>\n",
       "    <tr>\n",
       "      <th>6</th>\n",
       "      <td>drawski</td>\n",
       "      <td>zachodniopomorskie</td>\n",
       "      <td>0.020012</td>\n",
       "      <td>0.020591</td>\n",
       "      <td>134655.0</td>\n",
       "      <td>5737.21</td>\n",
       "      <td>4416.33</td>\n",
       "      <td>0.001035</td>\n",
       "    </tr>\n",
       "    <tr>\n",
       "      <th>7</th>\n",
       "      <td>myśliborski</td>\n",
       "      <td>zachodniopomorskie</td>\n",
       "      <td>0.019912</td>\n",
       "      <td>0.008745</td>\n",
       "      <td>162062.0</td>\n",
       "      <td>5974.11</td>\n",
       "      <td>4503.53</td>\n",
       "      <td>0.001402</td>\n",
       "    </tr>\n",
       "    <tr>\n",
       "      <th>8</th>\n",
       "      <td>wałecki</td>\n",
       "      <td>zachodniopomorskie</td>\n",
       "      <td>0.020664</td>\n",
       "      <td>0.009993</td>\n",
       "      <td>182538.0</td>\n",
       "      <td>5535.22</td>\n",
       "      <td>4678.73</td>\n",
       "      <td>0.001244</td>\n",
       "    </tr>\n",
       "    <tr>\n",
       "      <th>35</th>\n",
       "      <td>Słupsk</td>\n",
       "      <td>pomorskie</td>\n",
       "      <td>0.019166</td>\n",
       "      <td>0.005999</td>\n",
       "      <td>215281.0</td>\n",
       "      <td>7658.25</td>\n",
       "      <td>4841.90</td>\n",
       "      <td>0.001941</td>\n",
       "    </tr>\n",
       "  </tbody>\n",
       "</table>\n",
       "</div>"
      ],
      "text/plain": [
       "         powiat         Województwo  Przestepstwa_średnia_powiaty  \\\n",
       "5   koszaliński  zachodniopomorskie                      0.013252   \n",
       "6       drawski  zachodniopomorskie                      0.020012   \n",
       "7   myśliborski  zachodniopomorskie                      0.019912   \n",
       "8       wałecki  zachodniopomorskie                      0.020664   \n",
       "35       Słupsk           pomorskie                      0.019166   \n",
       "\n",
       "    Bezrobotni_średnia_powiaty  Ceny mieszkan  Dochody na mieszkanca  \\\n",
       "5                     0.018682       276635.0                6255.58   \n",
       "6                     0.020591       134655.0                5737.21   \n",
       "7                     0.008745       162062.0                5974.11   \n",
       "8                     0.009993       182538.0                5535.22   \n",
       "35                    0.005999       215281.0                7658.25   \n",
       "\n",
       "    Wynagrodzenie  Rozwody_średnia_powiaty  \n",
       "5         4616.89                 0.001068  \n",
       "6         4416.33                 0.001035  \n",
       "7         4503.53                 0.001402  \n",
       "8         4678.73                 0.001244  \n",
       "35        4841.90                 0.001941  "
      ]
     },
     "execution_count": 73,
     "metadata": {},
     "output_type": "execute_result"
    }
   ],
   "source": [
    "northern_merged.head()"
   ]
  },
  {
   "cell_type": "code",
   "execution_count": 81,
   "metadata": {},
   "outputs": [
    {
     "name": "stdout",
     "output_type": "stream",
     "text": [
      "Model dla powiatów północnych:\n",
      "                                 OLS Regression Results                                 \n",
      "========================================================================================\n",
      "Dep, Variable:     Przestepstwa_średnia_powiaty   R-squared:                       0,347\n",
      "Model:                                      OLS   Adj, R-squared:                  0,301\n",
      "Method:                           Least Squares   F-statistic:                     7,534\n",
      "Date:                          Wed, 11 Dec 2024   Prob (F-statistic):           1,01e-05\n",
      "Time:                                  23:26:33   Log-Likelihood:                 263,98\n",
      "No, Observations:                            77   AIC:                            -516,0\n",
      "Df Residuals:                                71   BIC:                            -501,9\n",
      "Df Model:                                     5                                         \n",
      "Covariance Type:                      nonrobust                                         \n",
      "==============================================================================================\n",
      "                                 coef    std err          t      P>|t|      [0,025      0,975]\n",
      "----------------------------------------------------------------------------------------------\n",
      "const                          0,0205      0,001     22,010      0,000       0,019       0,022\n",
      "Bezrobotni_średnia_powiaty     0,0009      0,001      0,793      0,430      -0,001       0,003\n",
      "Ceny mieszkan                  0,0008      0,001      0,551      0,583      -0,002       0,004\n",
      "Dochody na mieszkanca         -0,0004      0,001     -0,303      0,763      -0,003       0,002\n",
      "Wynagrodzenie                  0,0045      0,001      3,359      0,001       0,002       0,007\n",
      "Rozwody_średnia_powiaty        0,0015      0,001      1,321      0,191      -0,001       0,004\n",
      "==============================================================================\n",
      "Omnibus:                       35,010   Durbin-Watson:                   1,571\n",
      "Prob(Omnibus):                  0,000   Jarque-Bera (JB):               90,777\n",
      "Skew:                           1,492   Prob(JB):                     1,94e-20\n",
      "Kurtosis:                       7,403   Cond, No,                         2,97\n",
      "==============================================================================\n",
      "\n",
      "Notes:\n",
      "[1] Standard Errors assume that the covariance matrix of the errors is correctly specified,\n"
     ]
    }
   ],
   "source": [
    "# Model dla powiatów północnych\n",
    "X_north = northern_merged[['Bezrobotni_średnia_powiaty', 'Ceny mieszkan', 'Dochody na mieszkanca',\n",
    "                         'Wynagrodzenie', 'Rozwody_średnia_powiaty']]\n",
    "X_north = sm.add_constant(X_north)\n",
    "y_north = northern_merged['Przestepstwa_średnia_powiaty']\n",
    "\n",
    "from sklearn.preprocessing import StandardScaler\n",
    "scaler = StandardScaler()\n",
    "X_north['Ceny mieszkan'] = scaler.fit_transform(X_north[['Ceny mieszkan']])\n",
    "X_north['Bezrobotni_średnia_powiaty'] = scaler.fit_transform(X_north[['Bezrobotni_średnia_powiaty']])\n",
    "X_north['Dochody na mieszkanca'] = scaler.fit_transform(X_north[['Dochody na mieszkanca']])\n",
    "X_north['Wynagrodzenie'] = scaler.fit_transform(X_north[['Wynagrodzenie']])\n",
    "X_north['Rozwody_średnia_powiaty'] = scaler.fit_transform(X_north[['Rozwody_średnia_powiaty']])\n",
    "\n",
    "model_north = sm.OLS(y_north, X_north).fit()\n",
    "summary_str = model_north.summary().as_text()\n",
    "summary_str = summary_str.replace('.', ',')\n",
    "\n",
    "# Wyświetlenie wyników w przecinkach\n",
    "print(\"Model dla powiatów północnych:\")\n",
    "print(summary_str)\n",
    "\n",
    "\n"
   ]
  },
  {
   "cell_type": "code",
   "execution_count": 82,
   "metadata": {},
   "outputs": [
    {
     "name": "stdout",
     "output_type": "stream",
     "text": [
      "Model dla powiatów południowych:\n",
      "                                 OLS Regression Results                                 \n",
      "========================================================================================\n",
      "Dep, Variable:     Przestepstwa_średnia_powiaty   R-squared:                       0,149\n",
      "Model:                                      OLS   Adj, R-squared:                  0,124\n",
      "Method:                           Least Squares   F-statistic:                     5,888\n",
      "Date:                          Wed, 11 Dec 2024   Prob (F-statistic):           4,84e-05\n",
      "Time:                                  23:29:26   Log-Likelihood:                 494,86\n",
      "No, Observations:                           174   AIC:                            -977,7\n",
      "Df Residuals:                               168   BIC:                            -958,8\n",
      "Df Model:                                     5                                         \n",
      "Covariance Type:                      nonrobust                                         \n",
      "==============================================================================================\n",
      "                                 coef    std err          t      P>|t|      [0,025      0,975]\n",
      "----------------------------------------------------------------------------------------------\n",
      "const                          0,0220      0,001     20,282      0,000       0,020       0,024\n",
      "Bezrobotni_średnia_powiaty    -0,0002      0,001     -0,180      0,857      -0,002       0,002\n",
      "Ceny mieszkan                 -0,0021      0,001     -1,761      0,080      -0,005       0,000\n",
      "Dochody na mieszkanca          0,0044      0,001      3,350      0,001       0,002       0,007\n",
      "Wynagrodzenie                 -0,0007      0,001     -0,537      0,592      -0,003       0,002\n",
      "Rozwody_średnia_powiaty        0,0042      0,001      3,817      0,000       0,002       0,006\n",
      "==============================================================================\n",
      "Omnibus:                      212,654   Durbin-Watson:                   1,713\n",
      "Prob(Omnibus):                  0,000   Jarque-Bera (JB):            10429,094\n",
      "Skew:                           4,791   Prob(JB):                         0,00\n",
      "Kurtosis:                      39,697   Cond, No,                         1,96\n",
      "==============================================================================\n",
      "\n",
      "Notes:\n",
      "[1] Standard Errors assume that the covariance matrix of the errors is correctly specified,\n"
     ]
    }
   ],
   "source": [
    "# Model dla powiatów południowych\n",
    "X_south = southern_merged[['Bezrobotni_średnia_powiaty', 'Ceny mieszkan', 'Dochody na mieszkanca', 'Wynagrodzenie', 'Rozwody_średnia_powiaty']]\n",
    "X_south = sm.add_constant(X_south)\n",
    "y_south = southern_merged['Przestepstwa_średnia_powiaty']\n",
    "\n",
    "X_south['Ceny mieszkan'] = scaler.fit_transform(X_south[['Ceny mieszkan']])\n",
    "X_south['Bezrobotni_średnia_powiaty'] = scaler.fit_transform(X_south[['Bezrobotni_średnia_powiaty']])\n",
    "X_south['Dochody na mieszkanca'] = scaler.fit_transform(X_south[['Dochody na mieszkanca']])\n",
    "X_south['Wynagrodzenie'] = scaler.fit_transform(X_south[['Wynagrodzenie']])\n",
    "X_south['Rozwody_średnia_powiaty'] = scaler.fit_transform(X_south[['Rozwody_średnia_powiaty']])\n",
    "\n",
    "\n",
    "model_south = sm.OLS(y_south, X_south).fit()\n",
    "summary_str = model_south.summary().as_text()\n",
    "summary_str = summary_str.replace('.', ',')\n",
    "print(\"Model dla powiatów południowych:\")\n",
    "print(summary_str)"
   ]
  },
  {
   "cell_type": "code",
   "execution_count": 87,
   "metadata": {},
   "outputs": [
    {
     "data": {
      "image/png": "[encoded data removed]",
      "text/plain": [
       "<Figure size 640x480 with 1 Axes>"
      ]
     },
     "metadata": {},
     "output_type": "display_data"
    },
    {
     "data": {
      "image/png": "[encoded data removed]",
      "text/plain": [
       "<Figure size 640x480 with 1 Axes>"
      ]
     },
     "metadata": {},
     "output_type": "display_data"
    }
   ],
   "source": [
    "import seaborn as sns\n",
    "import matplotlib.pyplot as plt\n",
    "\n",
    "# Reszty dla powiatów północnych\n",
    "residuals_north = model_north.resid\n",
    "\n",
    "# Histogram dla reszt powiatów północnych\n",
    "sns.histplot(residuals_north, kde=True)\n",
    "plt.title(\"Reszty modelu dla powiatów północnych\")\n",
    "plt.xlabel(\"Reszty\")\n",
    "plt.ylabel(\"Częstość\")\n",
    "plt.show()\n",
    "\n",
    "# Reszty dla powiatów południowych\n",
    "residuals_south = model_south.resid\n",
    "\n",
    "# Histogram dla reszt powiatów południowych\n",
    "sns.histplot(residuals_south, kde=True)\n",
    "plt.title(\"Reszty modelu dla powiatów południowych\")\n",
    "plt.xlabel(\"Reszty\")\n",
    "plt.ylabel(\"Częstość\")\n",
    "plt.show()\n"
   ]
  }
 ],
 "metadata": {
  "colab": {
   "provenance": []
  },
  "kernelspec": {
   "display_name": "Python 3",
   "language": "python",
   "name": "python3"
  },
  "language_info": {
   "codemirror_mode": {
    "name": "ipython",
    "version": 3
   },
   "file_extension": ".py",
   "mimetype": "text/x-python",
   "name": "python",
   "nbconvert_exporter": "python",
   "pygments_lexer": "ipython3",
   "version": "3.10.7"
  }
 },
 "nbformat": 4,
 "nbformat_minor": 0
}
