{
 "cells": [
  {
   "cell_type": "code",
   "execution_count": 117,
   "metadata": {},
   "outputs": [],
   "source": [
    "import pandas as pd"
   ]
  },
  {
   "cell_type": "code",
   "execution_count": 118,
   "metadata": {},
   "outputs": [],
   "source": [
    "bezrobotni = pd.read_csv(\"Bezrobotni.csv\")\n",
    "ceny = pd.read_csv(\"Ceny_mieszkan.csv\")\n",
    "dochody = pd.read_csv(\"Dochody_na_mieszkanca.csv\")\n",
    "wynagrodzenie = pd.read_csv(\"Przecietne_wynagrodzenie.csv\")\n",
    "rozwody = pd.read_csv(\"Rozwody_i_separacje.csv\")\n",
    "ludnosc = pd.read_csv(\"Ludnosc.csv\")"
   ]
  },
  {
   "cell_type": "code",
   "execution_count": 119,
   "metadata": {},
   "outputs": [],
   "source": [
    "list = [bezrobotni, ceny, dochody, wynagrodzenie, rozwody]\n",
    "\n",
    "for i in list:\n",
    "    i.drop(['oid', 'kod KTS', 'powierzchnia', 'rok', 'TERYT', 'Typ powiatu', 'TERYT województwa'], axis=1, inplace=True)"
   ]
  },
  {
   "cell_type": "code",
   "execution_count": 120,
   "metadata": {},
   "outputs": [],
   "source": [
    "bezrobotni.rename(columns={\n",
    "    'Bezrobotni zarejestrowani pozostający bez pracy dłużej niż 1 rok|ogółem' : 'Bezrobotni'\n",
    "}, inplace=True)\n",
    "ceny.rename(columns={\n",
    "    'Średnia cena lokali mieszkalnych sprzedanych w ramach transakcji rynkowych|ogółem|ogółem' : 'Ceny mieszkan'\n",
    "}, inplace=True)\n",
    "dochody.rename(columns={\n",
    "    'Dochody na 1 mieszkańca|gminy łącznie z miastami na prawach powiatu|ogółem' : 'Dochody na mieszkanca'\n",
    "}, inplace=True)\n",
    "wynagrodzenie.rename(columns={\n",
    "    'Przeciętne miesięczne wynagrodzenia brutto|ogółem' : 'Wynagrodzenie'\n",
    "}, inplace=True)\n",
    "rozwody.rename(columns={\n",
    "    'Rozwody i separacje|rozwody|ogółem' : 'Rozwody i separacje'\n",
    "}, inplace=True)"
   ]
  },
  {
   "cell_type": "code",
   "execution_count": 121,
   "metadata": {},
   "outputs": [
    {
     "data": {
      "text/html": [
       "<div>\n",
       "<style scoped>\n",
       "    .dataframe tbody tr th:only-of-type {\n",
       "        vertical-align: middle;\n",
       "    }\n",
       "\n",
       "    .dataframe tbody tr th {\n",
       "        vertical-align: top;\n",
       "    }\n",
       "\n",
       "    .dataframe thead th {\n",
       "        text-align: right;\n",
       "    }\n",
       "</style>\n",
       "<table border=\"1\" class=\"dataframe\">\n",
       "  <thead>\n",
       "    <tr style=\"text-align: right;\">\n",
       "      <th></th>\n",
       "      <th>powiat</th>\n",
       "      <th>Województwo</th>\n",
       "      <th>Bezrobotni</th>\n",
       "    </tr>\n",
       "  </thead>\n",
       "  <tbody>\n",
       "    <tr>\n",
       "      <th>0</th>\n",
       "      <td>nowosądecki</td>\n",
       "      <td>małopolskie</td>\n",
       "      <td>3256.0</td>\n",
       "    </tr>\n",
       "    <tr>\n",
       "      <th>1</th>\n",
       "      <td>tarnowski</td>\n",
       "      <td>małopolskie</td>\n",
       "      <td>2009.0</td>\n",
       "    </tr>\n",
       "    <tr>\n",
       "      <th>2</th>\n",
       "      <td>gorzowski</td>\n",
       "      <td>lubuskie</td>\n",
       "      <td>402.0</td>\n",
       "    </tr>\n",
       "    <tr>\n",
       "      <th>3</th>\n",
       "      <td>koniński</td>\n",
       "      <td>wielkopolskie</td>\n",
       "      <td>1928.0</td>\n",
       "    </tr>\n",
       "    <tr>\n",
       "      <th>4</th>\n",
       "      <td>poznański</td>\n",
       "      <td>wielkopolskie</td>\n",
       "      <td>913.0</td>\n",
       "    </tr>\n",
       "  </tbody>\n",
       "</table>\n",
       "</div>"
      ],
      "text/plain": [
       "        powiat    Województwo  Bezrobotni\n",
       "0  nowosądecki    małopolskie      3256.0\n",
       "1    tarnowski    małopolskie      2009.0\n",
       "2    gorzowski       lubuskie       402.0\n",
       "3     koniński  wielkopolskie      1928.0\n",
       "4    poznański  wielkopolskie       913.0"
      ]
     },
     "execution_count": 121,
     "metadata": {},
     "output_type": "execute_result"
    }
   ],
   "source": [
    "bezrobotni.head()"
   ]
  },
  {
   "cell_type": "code",
   "execution_count": 122,
   "metadata": {},
   "outputs": [
    {
     "data": {
      "text/html": [
       "<div>\n",
       "<style scoped>\n",
       "    .dataframe tbody tr th:only-of-type {\n",
       "        vertical-align: middle;\n",
       "    }\n",
       "\n",
       "    .dataframe tbody tr th {\n",
       "        vertical-align: top;\n",
       "    }\n",
       "\n",
       "    .dataframe thead th {\n",
       "        text-align: right;\n",
       "    }\n",
       "</style>\n",
       "<table border=\"1\" class=\"dataframe\">\n",
       "  <thead>\n",
       "    <tr style=\"text-align: right;\">\n",
       "      <th></th>\n",
       "      <th>powiat</th>\n",
       "      <th>Województwo</th>\n",
       "      <th>Rozwody i separacje</th>\n",
       "    </tr>\n",
       "  </thead>\n",
       "  <tbody>\n",
       "    <tr>\n",
       "      <th>0</th>\n",
       "      <td>nowosądecki</td>\n",
       "      <td>małopolskie</td>\n",
       "      <td>139.0</td>\n",
       "    </tr>\n",
       "    <tr>\n",
       "      <th>1</th>\n",
       "      <td>tarnowski</td>\n",
       "      <td>małopolskie</td>\n",
       "      <td>175.0</td>\n",
       "    </tr>\n",
       "    <tr>\n",
       "      <th>2</th>\n",
       "      <td>gorzowski</td>\n",
       "      <td>lubuskie</td>\n",
       "      <td>72.0</td>\n",
       "    </tr>\n",
       "    <tr>\n",
       "      <th>3</th>\n",
       "      <td>koniński</td>\n",
       "      <td>wielkopolskie</td>\n",
       "      <td>142.0</td>\n",
       "    </tr>\n",
       "    <tr>\n",
       "      <th>4</th>\n",
       "      <td>poznański</td>\n",
       "      <td>wielkopolskie</td>\n",
       "      <td>427.0</td>\n",
       "    </tr>\n",
       "  </tbody>\n",
       "</table>\n",
       "</div>"
      ],
      "text/plain": [
       "        powiat    Województwo  Rozwody i separacje\n",
       "0  nowosądecki    małopolskie                139.0\n",
       "1    tarnowski    małopolskie                175.0\n",
       "2    gorzowski       lubuskie                 72.0\n",
       "3     koniński  wielkopolskie                142.0\n",
       "4    poznański  wielkopolskie                427.0"
      ]
     },
     "execution_count": 122,
     "metadata": {},
     "output_type": "execute_result"
    }
   ],
   "source": [
    "rozwody.head()"
   ]
  },
  {
   "cell_type": "code",
   "execution_count": 123,
   "metadata": {},
   "outputs": [
    {
     "name": "stdout",
     "output_type": "stream",
     "text": [
      "                powiat  Ludnosc_powiaty\n",
      "0        bolesławiecki            90103\n",
      "1       dzierżoniowski           100813\n",
      "2            głogowski            89102\n",
      "3             górowski            34870\n",
      "4             jaworski            50116\n",
      "..                 ...              ...\n",
      "375         świdwiński            46724\n",
      "376            wałecki            53039\n",
      "377           Koszalin           107048\n",
      "378           Szczecin           401907\n",
      "379        Świnoujście            40888\n",
      "\n",
      "[380 rows x 2 columns]\n"
     ]
    }
   ],
   "source": [
    "ludnosc.columns = ludnosc.columns.str.strip()\n",
    "\n",
    "ludnosc = pd.DataFrame({\n",
    "    'powiat': ludnosc['Powiaty'],\n",
    "    'Ludnosc_powiaty': ludnosc['Ludnosc']\n",
    "})\n",
    "\n",
    "print(ludnosc)"
   ]
  },
  {
   "cell_type": "code",
   "execution_count": 124,
   "metadata": {},
   "outputs": [],
   "source": [
    "bezrobotni['powiat'] = bezrobotni['powiat'].str.strip()\n",
    "ludnosc['powiat'] = ludnosc['powiat'].str.strip()"
   ]
  },
  {
   "cell_type": "code",
   "execution_count": 125,
   "metadata": {},
   "outputs": [],
   "source": [
    "bezrobotni_merge = bezrobotni.merge(ludnosc, on='powiat')"
   ]
  },
  {
   "cell_type": "code",
   "execution_count": 126,
   "metadata": {},
   "outputs": [],
   "source": [
    "bezrobotni_merge['Bezrobotni_średnia_powiaty'] = (bezrobotni_merge['Bezrobotni']/bezrobotni_merge['Ludnosc_powiaty'])"
   ]
  },
  {
   "cell_type": "code",
   "execution_count": 127,
   "metadata": {},
   "outputs": [
    {
     "name": "stdout",
     "output_type": "stream",
     "text": [
      "           powiat  Bezrobotni  Ludnosc_powiaty  Bezrobotni_średnia_powiaty\n",
      "0     nowosądecki      3256.0           216796                    0.015019\n",
      "1       tarnowski      2009.0           201497                    0.009970\n",
      "2       gorzowski       402.0            71836                    0.005596\n",
      "3        koniński      1928.0           130053                    0.014825\n",
      "4       poznański       913.0           399272                    0.002287\n",
      "..            ...         ...              ...                         ...\n",
      "395     siedlecki       585.0            81362                    0.007190\n",
      "396    sokołowski       571.0            53804                    0.010613\n",
      "397     węgrowski       789.0            65822                    0.011987\n",
      "398  sochaczewski       525.0            85045                    0.006173\n",
      "399   żyrardowski      1550.0            75749                    0.020462\n",
      "\n",
      "[400 rows x 4 columns]\n"
     ]
    }
   ],
   "source": [
    "print(bezrobotni_merge[['powiat', 'Bezrobotni', 'Ludnosc_powiaty', 'Bezrobotni_średnia_powiaty']])"
   ]
  },
  {
   "cell_type": "code",
   "execution_count": 128,
   "metadata": {},
   "outputs": [],
   "source": [
    "rozwody['powiat'] = rozwody['powiat'].str.strip()"
   ]
  },
  {
   "cell_type": "code",
   "execution_count": 129,
   "metadata": {},
   "outputs": [],
   "source": [
    "rozwody_merge = rozwody.merge(ludnosc, on='powiat')"
   ]
  },
  {
   "cell_type": "code",
   "execution_count": 132,
   "metadata": {},
   "outputs": [],
   "source": [
    "rozwody_merge['Rozwody_średnia_powiaty'] = (rozwody_merge['Rozwody i separacje']/rozwody_merge['Ludnosc_powiaty'])"
   ]
  },
  {
   "cell_type": "code",
   "execution_count": 133,
   "metadata": {},
   "outputs": [
    {
     "name": "stdout",
     "output_type": "stream",
     "text": [
      "           powiat  Rozwody i separacje  Ludnosc_powiaty  \\\n",
      "0     nowosądecki             0.000641           216796   \n",
      "1       tarnowski             0.000868           201497   \n",
      "2       gorzowski             0.001002            71836   \n",
      "3        koniński             0.001092           130053   \n",
      "4       poznański             0.001069           399272   \n",
      "..            ...                  ...              ...   \n",
      "395     siedlecki             0.001020            81362   \n",
      "396    sokołowski             0.000911            53804   \n",
      "397     węgrowski             0.000912            65822   \n",
      "398  sochaczewski             0.001329            85045   \n",
      "399   żyrardowski             0.001294            75749   \n",
      "\n",
      "     Rozwody_średnia_powiaty  \n",
      "0               2.957415e-09  \n",
      "1               4.310234e-09  \n",
      "2               1.395238e-08  \n",
      "3               8.395520e-09  \n",
      "4               2.678491e-09  \n",
      "..                       ...  \n",
      "395             1.253819e-08  \n",
      "396             1.692649e-08  \n",
      "397             1.384870e-08  \n",
      "398             1.562359e-08  \n",
      "399             1.707939e-08  \n",
      "\n",
      "[400 rows x 4 columns]\n"
     ]
    }
   ],
   "source": [
    "print(rozwody_merge[['powiat', 'Rozwody i separacje', 'Ludnosc_powiaty', 'Rozwody_średnia_powiaty']])"
   ]
  },
  {
   "cell_type": "code",
   "execution_count": null,
   "metadata": {},
   "outputs": [],
   "source": []
  }
 ],
 "metadata": {
  "kernelspec": {
   "display_name": "py10",
   "language": "python",
   "name": "python3"
  },
  "language_info": {
   "codemirror_mode": {
    "name": "ipython",
    "version": 3
   },
   "file_extension": ".py",
   "mimetype": "text/x-python",
   "name": "python",
   "nbconvert_exporter": "python",
   "pygments_lexer": "ipython3",
   "version": "3.10.6"
  }
 },
 "nbformat": 4,
 "nbformat_minor": 2
}
