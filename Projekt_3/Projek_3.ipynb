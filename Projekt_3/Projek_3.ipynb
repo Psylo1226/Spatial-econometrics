{
 "cells": [
  {
   "cell_type": "code",
   "execution_count": 996,
   "metadata": {},
   "outputs": [],
   "source": [
    "import pandas as pd\n",
    "import numpy as np\n",
    "import geopandas as gpd\n",
    "import matplotlib.pyplot as plt\n",
    "import statsmodels.api as sm\n",
    "from functools import reduce\n",
    "import seaborn as sns"
   ]
  },
  {
   "cell_type": "code",
   "execution_count": 997,
   "metadata": {},
   "outputs": [],
   "source": [
    "przestepstwa = pd.read_csv(\"Przestepstwa_pow.csv\")\n",
    "pow = pd.read_csv(\"Przestepstwa_pow.csv\")\n",
    "bezrobotni = pd.read_csv(\"Bezrobotni.csv\")\n",
    "ceny = pd.read_csv(\"Ceny_mieszkan.csv\")\n",
    "dochody = pd.read_csv(\"Dochody_na_mieszkanca.csv\")\n",
    "wynagrodzenie = pd.read_csv(\"Przecietne_wynagrodzenie.csv\")\n",
    "rozwody = pd.read_csv(\"Rozwody_i_separacje.csv\")\n",
    "ludnosc = pd.read_csv(\"Ludnosc.csv\")\n",
    "pow_map = \"powiaty.shp\"\n",
    "pow_m = gpd.read_file(pow_map)"
   ]
  },
  {
   "cell_type": "code",
   "execution_count": 998,
   "metadata": {},
   "outputs": [],
   "source": [
    "list = [przestepstwa, bezrobotni, ceny, dochody, wynagrodzenie, rozwody]\n",
    "\n",
    "for i in list:\n",
    "    i.drop(['oid', 'kod KTS', 'powierzchnia', 'rok', 'TERYT', 'Typ powiatu', 'TERYT województwa'], axis=1, inplace=True)"
   ]
  },
  {
   "cell_type": "code",
   "execution_count": 999,
   "metadata": {},
   "outputs": [],
   "source": [
    "przestepstwa.rename(columns={\n",
    "    'Przestępstwa stwierdzone przez Policję w zakończonych postępowaniach przygotowawczych|ogółem' : 'Przestepstwa'\n",
    "}, inplace=True)\n",
    "bezrobotni.rename(columns={\n",
    "    'Bezrobotni zarejestrowani pozostający bez pracy dłużej niż 1 rok|ogółem' : 'Bezrobotni'\n",
    "}, inplace=True)\n",
    "ceny.rename(columns={\n",
    "    'Średnia cena lokali mieszkalnych sprzedanych w ramach transakcji rynkowych|ogółem|ogółem' : 'Ceny mieszkan'\n",
    "}, inplace=True)\n",
    "dochody.rename(columns={\n",
    "    'Dochody na 1 mieszkańca|gminy łącznie z miastami na prawach powiatu|ogółem' : 'Dochody na mieszkanca'\n",
    "}, inplace=True)\n",
    "wynagrodzenie.rename(columns={\n",
    "    'Przeciętne miesięczne wynagrodzenia brutto|ogółem' : 'Wynagrodzenie'\n",
    "}, inplace=True)\n",
    "rozwody.rename(columns={\n",
    "    'Rozwody i separacje|rozwody|ogółem' : 'Rozwody i separacje'\n",
    "}, inplace=True)"
   ]
  },
  {
   "cell_type": "code",
   "execution_count": 1000,
   "metadata": {},
   "outputs": [
    {
     "name": "stdout",
     "output_type": "stream",
     "text": [
      "                powiat  Ludnosc_powiaty\n",
      "0        bolesławiecki            90103\n",
      "1       dzierżoniowski           100813\n",
      "2            głogowski            89102\n",
      "3             górowski            34870\n",
      "4             jaworski            50116\n",
      "..                 ...              ...\n",
      "375         świdwiński            46724\n",
      "376            wałecki            53039\n",
      "377           Koszalin           107048\n",
      "378           Szczecin           401907\n",
      "379        Świnoujście            40888\n",
      "\n",
      "[380 rows x 2 columns]\n"
     ]
    }
   ],
   "source": [
    "ludnosc.columns = ludnosc.columns.str.strip()\n",
    "\n",
    "ludnosc = pd.DataFrame({\n",
    "    'powiat': ludnosc['Powiaty'],\n",
    "    'Ludnosc_powiaty': ludnosc['Ludnosc']\n",
    "})\n",
    "\n",
    "print(ludnosc)"
   ]
  },
  {
   "cell_type": "code",
   "execution_count": 1001,
   "metadata": {},
   "outputs": [
    {
     "data": {
      "text/html": [
       "<div>\n",
       "<style scoped>\n",
       "    .dataframe tbody tr th:only-of-type {\n",
       "        vertical-align: middle;\n",
       "    }\n",
       "\n",
       "    .dataframe tbody tr th {\n",
       "        vertical-align: top;\n",
       "    }\n",
       "\n",
       "    .dataframe thead th {\n",
       "        text-align: right;\n",
       "    }\n",
       "</style>\n",
       "<table border=\"1\" class=\"dataframe\">\n",
       "  <thead>\n",
       "    <tr style=\"text-align: right;\">\n",
       "      <th></th>\n",
       "      <th>powiat</th>\n",
       "      <th>Województwo</th>\n",
       "      <th>Przestepstwa</th>\n",
       "    </tr>\n",
       "  </thead>\n",
       "  <tbody>\n",
       "    <tr>\n",
       "      <th>0</th>\n",
       "      <td>nowosądecki</td>\n",
       "      <td>małopolskie</td>\n",
       "      <td>11958.0</td>\n",
       "    </tr>\n",
       "    <tr>\n",
       "      <th>1</th>\n",
       "      <td>tarnowski</td>\n",
       "      <td>małopolskie</td>\n",
       "      <td>2860.0</td>\n",
       "    </tr>\n",
       "    <tr>\n",
       "      <th>2</th>\n",
       "      <td>gorzowski</td>\n",
       "      <td>lubuskie</td>\n",
       "      <td>1108.0</td>\n",
       "    </tr>\n",
       "    <tr>\n",
       "      <th>3</th>\n",
       "      <td>koniński</td>\n",
       "      <td>wielkopolskie</td>\n",
       "      <td>1163.0</td>\n",
       "    </tr>\n",
       "    <tr>\n",
       "      <th>4</th>\n",
       "      <td>poznański</td>\n",
       "      <td>wielkopolskie</td>\n",
       "      <td>5260.0</td>\n",
       "    </tr>\n",
       "  </tbody>\n",
       "</table>\n",
       "</div>"
      ],
      "text/plain": [
       "        powiat    Województwo  Przestepstwa\n",
       "0  nowosądecki    małopolskie       11958.0\n",
       "1    tarnowski    małopolskie        2860.0\n",
       "2    gorzowski       lubuskie        1108.0\n",
       "3     koniński  wielkopolskie        1163.0\n",
       "4    poznański  wielkopolskie        5260.0"
      ]
     },
     "execution_count": 1001,
     "metadata": {},
     "output_type": "execute_result"
    }
   ],
   "source": [
    "przestepstwa.head()"
   ]
  },
  {
   "cell_type": "code",
   "execution_count": 1002,
   "metadata": {},
   "outputs": [],
   "source": [
    "przestepstwa['powiat'] = przestepstwa['powiat'].str.strip()\n",
    "ludnosc['powiat'] = ludnosc['powiat'].str.strip()"
   ]
  },
  {
   "cell_type": "code",
   "execution_count": 1003,
   "metadata": {},
   "outputs": [],
   "source": [
    "przestepstwa_merge = przestepstwa.merge(ludnosc, on='powiat')"
   ]
  },
  {
   "cell_type": "code",
   "execution_count": 1004,
   "metadata": {},
   "outputs": [],
   "source": [
    "przestepstwa_merge['Przestepstwa_średnia_powiaty'] = (przestepstwa_merge['Przestepstwa']/przestepstwa_merge['Ludnosc_powiaty'])"
   ]
  },
  {
   "cell_type": "code",
   "execution_count": 1005,
   "metadata": {},
   "outputs": [
    {
     "name": "stdout",
     "output_type": "stream",
     "text": [
      "           powiat  Przestepstwa_średnia_powiaty\n",
      "0     nowosądecki                      0.055158\n",
      "1       tarnowski                      0.014194\n",
      "2       gorzowski                      0.015424\n",
      "3        koniński                      0.008943\n",
      "4       poznański                      0.013174\n",
      "..            ...                           ...\n",
      "395     siedlecki                      0.009415\n",
      "396    sokołowski                      0.017081\n",
      "397     węgrowski                      0.012260\n",
      "398  sochaczewski                      0.016685\n",
      "399   żyrardowski                      0.021162\n",
      "\n",
      "[400 rows x 2 columns]\n"
     ]
    }
   ],
   "source": [
    "print(przestepstwa_merge[['powiat', 'Przestepstwa_średnia_powiaty']])"
   ]
  },
  {
   "cell_type": "code",
   "execution_count": 1006,
   "metadata": {},
   "outputs": [
    {
     "data": {
      "text/html": [
       "<div>\n",
       "<style scoped>\n",
       "    .dataframe tbody tr th:only-of-type {\n",
       "        vertical-align: middle;\n",
       "    }\n",
       "\n",
       "    .dataframe tbody tr th {\n",
       "        vertical-align: top;\n",
       "    }\n",
       "\n",
       "    .dataframe thead th {\n",
       "        text-align: right;\n",
       "    }\n",
       "</style>\n",
       "<table border=\"1\" class=\"dataframe\">\n",
       "  <thead>\n",
       "    <tr style=\"text-align: right;\">\n",
       "      <th></th>\n",
       "      <th>powiat</th>\n",
       "      <th>Województwo</th>\n",
       "      <th>Bezrobotni</th>\n",
       "    </tr>\n",
       "  </thead>\n",
       "  <tbody>\n",
       "    <tr>\n",
       "      <th>0</th>\n",
       "      <td>nowosądecki</td>\n",
       "      <td>małopolskie</td>\n",
       "      <td>3256.0</td>\n",
       "    </tr>\n",
       "    <tr>\n",
       "      <th>1</th>\n",
       "      <td>tarnowski</td>\n",
       "      <td>małopolskie</td>\n",
       "      <td>2009.0</td>\n",
       "    </tr>\n",
       "    <tr>\n",
       "      <th>2</th>\n",
       "      <td>gorzowski</td>\n",
       "      <td>lubuskie</td>\n",
       "      <td>402.0</td>\n",
       "    </tr>\n",
       "    <tr>\n",
       "      <th>3</th>\n",
       "      <td>koniński</td>\n",
       "      <td>wielkopolskie</td>\n",
       "      <td>1928.0</td>\n",
       "    </tr>\n",
       "    <tr>\n",
       "      <th>4</th>\n",
       "      <td>poznański</td>\n",
       "      <td>wielkopolskie</td>\n",
       "      <td>913.0</td>\n",
       "    </tr>\n",
       "  </tbody>\n",
       "</table>\n",
       "</div>"
      ],
      "text/plain": [
       "        powiat    Województwo  Bezrobotni\n",
       "0  nowosądecki    małopolskie      3256.0\n",
       "1    tarnowski    małopolskie      2009.0\n",
       "2    gorzowski       lubuskie       402.0\n",
       "3     koniński  wielkopolskie      1928.0\n",
       "4    poznański  wielkopolskie       913.0"
      ]
     },
     "execution_count": 1006,
     "metadata": {},
     "output_type": "execute_result"
    }
   ],
   "source": [
    "bezrobotni.head()"
   ]
  },
  {
   "cell_type": "code",
   "execution_count": 1007,
   "metadata": {},
   "outputs": [],
   "source": [
    "bezrobotni['powiat'] = bezrobotni['powiat'].str.strip()\n",
    "ludnosc['powiat'] = ludnosc['powiat'].str.strip()"
   ]
  },
  {
   "cell_type": "code",
   "execution_count": 1008,
   "metadata": {},
   "outputs": [],
   "source": [
    "bezrobotni_merge = bezrobotni.merge(ludnosc, on='powiat')"
   ]
  },
  {
   "cell_type": "code",
   "execution_count": 1009,
   "metadata": {},
   "outputs": [],
   "source": [
    "bezrobotni_merge['Bezrobotni_średnia_powiaty'] = (bezrobotni_merge['Bezrobotni']/bezrobotni_merge['Ludnosc_powiaty'])"
   ]
  },
  {
   "cell_type": "code",
   "execution_count": 1010,
   "metadata": {},
   "outputs": [
    {
     "name": "stdout",
     "output_type": "stream",
     "text": [
      "           powiat  Bezrobotni_średnia_powiaty\n",
      "0     nowosądecki                    0.015019\n",
      "1       tarnowski                    0.009970\n",
      "2       gorzowski                    0.005596\n",
      "3        koniński                    0.014825\n",
      "4       poznański                    0.002287\n",
      "..            ...                         ...\n",
      "395     siedlecki                    0.007190\n",
      "396    sokołowski                    0.010613\n",
      "397     węgrowski                    0.011987\n",
      "398  sochaczewski                    0.006173\n",
      "399   żyrardowski                    0.020462\n",
      "\n",
      "[400 rows x 2 columns]\n"
     ]
    }
   ],
   "source": [
    "print(bezrobotni_merge[['powiat', 'Bezrobotni_średnia_powiaty']])"
   ]
  },
  {
   "cell_type": "code",
   "execution_count": 1011,
   "metadata": {},
   "outputs": [
    {
     "data": {
      "text/html": [
       "<div>\n",
       "<style scoped>\n",
       "    .dataframe tbody tr th:only-of-type {\n",
       "        vertical-align: middle;\n",
       "    }\n",
       "\n",
       "    .dataframe tbody tr th {\n",
       "        vertical-align: top;\n",
       "    }\n",
       "\n",
       "    .dataframe thead th {\n",
       "        text-align: right;\n",
       "    }\n",
       "</style>\n",
       "<table border=\"1\" class=\"dataframe\">\n",
       "  <thead>\n",
       "    <tr style=\"text-align: right;\">\n",
       "      <th></th>\n",
       "      <th>powiat</th>\n",
       "      <th>Województwo</th>\n",
       "      <th>Rozwody i separacje</th>\n",
       "    </tr>\n",
       "  </thead>\n",
       "  <tbody>\n",
       "    <tr>\n",
       "      <th>0</th>\n",
       "      <td>nowosądecki</td>\n",
       "      <td>małopolskie</td>\n",
       "      <td>139.0</td>\n",
       "    </tr>\n",
       "    <tr>\n",
       "      <th>1</th>\n",
       "      <td>tarnowski</td>\n",
       "      <td>małopolskie</td>\n",
       "      <td>175.0</td>\n",
       "    </tr>\n",
       "    <tr>\n",
       "      <th>2</th>\n",
       "      <td>gorzowski</td>\n",
       "      <td>lubuskie</td>\n",
       "      <td>72.0</td>\n",
       "    </tr>\n",
       "    <tr>\n",
       "      <th>3</th>\n",
       "      <td>koniński</td>\n",
       "      <td>wielkopolskie</td>\n",
       "      <td>142.0</td>\n",
       "    </tr>\n",
       "    <tr>\n",
       "      <th>4</th>\n",
       "      <td>poznański</td>\n",
       "      <td>wielkopolskie</td>\n",
       "      <td>427.0</td>\n",
       "    </tr>\n",
       "  </tbody>\n",
       "</table>\n",
       "</div>"
      ],
      "text/plain": [
       "        powiat    Województwo  Rozwody i separacje\n",
       "0  nowosądecki    małopolskie                139.0\n",
       "1    tarnowski    małopolskie                175.0\n",
       "2    gorzowski       lubuskie                 72.0\n",
       "3     koniński  wielkopolskie                142.0\n",
       "4    poznański  wielkopolskie                427.0"
      ]
     },
     "execution_count": 1011,
     "metadata": {},
     "output_type": "execute_result"
    }
   ],
   "source": [
    "rozwody.head()"
   ]
  },
  {
   "cell_type": "code",
   "execution_count": 1012,
   "metadata": {},
   "outputs": [],
   "source": [
    "rozwody['powiat'] = rozwody['powiat'].str.strip()"
   ]
  },
  {
   "cell_type": "code",
   "execution_count": 1013,
   "metadata": {},
   "outputs": [],
   "source": [
    "rozwody_merge = rozwody.merge(ludnosc, on='powiat')"
   ]
  },
  {
   "cell_type": "code",
   "execution_count": 1014,
   "metadata": {},
   "outputs": [],
   "source": [
    "rozwody_merge['Rozwody_średnia_powiaty'] = (rozwody_merge['Rozwody i separacje']/rozwody_merge['Ludnosc_powiaty'])"
   ]
  },
  {
   "cell_type": "code",
   "execution_count": 1015,
   "metadata": {},
   "outputs": [
    {
     "name": "stdout",
     "output_type": "stream",
     "text": [
      "           powiat  Rozwody_średnia_powiaty\n",
      "0     nowosądecki                 0.000641\n",
      "1       tarnowski                 0.000868\n",
      "2       gorzowski                 0.001002\n",
      "3        koniński                 0.001092\n",
      "4       poznański                 0.001069\n",
      "..            ...                      ...\n",
      "395     siedlecki                 0.001020\n",
      "396    sokołowski                 0.000911\n",
      "397     węgrowski                 0.000912\n",
      "398  sochaczewski                 0.001329\n",
      "399   żyrardowski                 0.001294\n",
      "\n",
      "[400 rows x 2 columns]\n"
     ]
    }
   ],
   "source": [
    "print(rozwody_merge[['powiat', 'Rozwody_średnia_powiaty']])"
   ]
  },
  {
   "cell_type": "code",
   "execution_count": 1016,
   "metadata": {},
   "outputs": [
    {
     "name": "stdout",
     "output_type": "stream",
     "text": [
      "           powiat    Województwo  Przestepstwa_średnia_powiaty  \\\n",
      "0     nowosądecki    małopolskie                      0.055158   \n",
      "1       tarnowski    małopolskie                      0.014194   \n",
      "2       gorzowski       lubuskie                      0.015424   \n",
      "3        koniński  wielkopolskie                      0.008943   \n",
      "4       poznański  wielkopolskie                      0.013174   \n",
      "..            ...            ...                           ...   \n",
      "515     siedlecki    mazowieckie                      0.009415   \n",
      "516    sokołowski    mazowieckie                      0.017081   \n",
      "517     węgrowski    mazowieckie                      0.012260   \n",
      "518  sochaczewski    mazowieckie                      0.016685   \n",
      "519   żyrardowski    mazowieckie                      0.021162   \n",
      "\n",
      "     Bezrobotni_średnia_powiaty  Ceny mieszkan  Dochody na mieszkanca  \\\n",
      "0                      0.015019       242497.0                6290.69   \n",
      "1                      0.009970       210957.0                5333.95   \n",
      "2                      0.005596       202519.0                5901.75   \n",
      "3                      0.014825       131116.0                5782.76   \n",
      "4                      0.002287       335041.0                6356.78   \n",
      "..                          ...            ...                    ...   \n",
      "515                    0.007190       361840.0                5748.01   \n",
      "516                    0.010613       200539.0                5743.59   \n",
      "517                    0.011987       166708.0                5942.15   \n",
      "518                    0.006173       197440.0                5911.03   \n",
      "519                    0.020462       231404.0                6346.93   \n",
      "\n",
      "     Wynagrodzenie  Rozwody_średnia_powiaty  \n",
      "0          4160.76                 0.000641  \n",
      "1          4149.11                 0.000868  \n",
      "2          5012.81                 0.001002  \n",
      "3          4184.77                 0.001092  \n",
      "4          4776.27                 0.001069  \n",
      "..             ...                      ...  \n",
      "515        4503.92                 0.001020  \n",
      "516        4792.94                 0.000911  \n",
      "517        4589.75                 0.000912  \n",
      "518        5741.89                 0.001329  \n",
      "519        5113.05                 0.001294  \n",
      "\n",
      "[520 rows x 8 columns]\n"
     ]
    }
   ],
   "source": [
    "files_to_merge = [przestepstwa_merge, bezrobotni_merge, ceny, dochody, wynagrodzenie, rozwody_merge]\n",
    "\n",
    "stats =['powiat', 'Województwo']\n",
    "\n",
    "merged = reduce(lambda left, right: left.merge(right, on=stats, how='inner'), files_to_merge)\n",
    "merged.drop(['Przestepstwa', 'Ludnosc_powiaty_x', 'Bezrobotni', 'Ludnosc_powiaty_y', 'Rozwody i separacje', 'Ludnosc_powiaty'], axis=1, inplace=True)\n",
    "\n",
    "merged.to_csv(\"merged_output.csv\", index=False)\n",
    "\n",
    "print(merged)"
   ]
  },
  {
   "cell_type": "code",
   "execution_count": 1017,
   "metadata": {},
   "outputs": [
    {
     "data": {
      "text/plain": [
       "Index(['powiat', 'Województwo', 'Przestepstwa_średnia_powiaty',\n",
       "       'Bezrobotni_średnia_powiaty', 'Ceny mieszkan', 'Dochody na mieszkanca',\n",
       "       'Wynagrodzenie', 'Rozwody_średnia_powiaty'],\n",
       "      dtype='object')"
      ]
     },
     "execution_count": 1017,
     "metadata": {},
     "output_type": "execute_result"
    }
   ],
   "source": [
    "merged.columns"
   ]
  },
  {
   "cell_type": "code",
   "execution_count": 1018,
   "metadata": {},
   "outputs": [],
   "source": [
    "from sklearn.preprocessing import StandardScaler\n",
    "\n",
    "object = StandardScaler()\n",
    "\n",
    "columns_to_standardize = [\n",
    "    'Bezrobotni_średnia_powiaty', \n",
    "    'Ceny mieszkan', \n",
    "    'Dochody na mieszkanca', \n",
    "    'Wynagrodzenie', \n",
    "    'Rozwody_średnia_powiaty', \n",
    "    'Przestepstwa_średnia_powiaty'\n",
    "]\n",
    "\n",
    "data = merged[columns_to_standardize]\n",
    "\n",
    "scaler = StandardScaler()\n",
    "\n",
    "standardized_data = scaler.fit_transform(data)\n",
    "\n",
    "standardized_data_df = pd.DataFrame(\n",
    "    standardized_data, \n",
    "    columns=columns_to_standardize,\n",
    "    index=merged.index\n",
    ")\n",
    "\n",
    "# Drop original columns and add standardized ones\n",
    "merged = merged.drop(columns=columns_to_standardize)\n",
    "merged = pd.concat([merged, standardized_data_df], axis=1)\n",
    "\n",
    "merged.to_csv('merged_standardized.csv', index=False)"
   ]
  },
  {
   "cell_type": "code",
   "execution_count": 1019,
   "metadata": {},
   "outputs": [
    {
     "name": "stderr",
     "output_type": "stream",
     "text": [
      "c:\\Users\\KamilSarzyniak\\anaconda3\\envs\\py10\\lib\\site-packages\\pandas\\core\\internals\\blocks.py:351: RuntimeWarning: invalid value encountered in log\n",
      "  result = func(self.values, **kwargs)\n"
     ]
    }
   ],
   "source": [
    "columns_to_logaritmize = [\n",
    "    'Bezrobotni_średnia_powiaty', \n",
    "    'Ceny mieszkan', \n",
    "    'Dochody na mieszkanca', \n",
    "    'Wynagrodzenie', \n",
    "    'Rozwody_średnia_powiaty'\n",
    "]\n",
    "\n",
    "merged_log = np.log(merged[columns_to_logaritmize])\n",
    "merged_rest = merged.drop(columns=columns_to_logaritmize)\n",
    "merged = pd.concat([merged_rest, merged_log], axis=1)"
   ]
  },
  {
   "cell_type": "code",
   "execution_count": 1020,
   "metadata": {},
   "outputs": [
    {
     "data": {
      "text/html": [
       "<div>\n",
       "<style scoped>\n",
       "    .dataframe tbody tr th:only-of-type {\n",
       "        vertical-align: middle;\n",
       "    }\n",
       "\n",
       "    .dataframe tbody tr th {\n",
       "        vertical-align: top;\n",
       "    }\n",
       "\n",
       "    .dataframe thead th {\n",
       "        text-align: right;\n",
       "    }\n",
       "</style>\n",
       "<table border=\"1\" class=\"dataframe\">\n",
       "  <thead>\n",
       "    <tr style=\"text-align: right;\">\n",
       "      <th></th>\n",
       "      <th>powiat</th>\n",
       "      <th>Województwo</th>\n",
       "      <th>Przestepstwa_średnia_powiaty</th>\n",
       "      <th>Bezrobotni_średnia_powiaty</th>\n",
       "      <th>Ceny mieszkan</th>\n",
       "      <th>Dochody na mieszkanca</th>\n",
       "      <th>Wynagrodzenie</th>\n",
       "      <th>Rozwody_średnia_powiaty</th>\n",
       "    </tr>\n",
       "  </thead>\n",
       "  <tbody>\n",
       "    <tr>\n",
       "      <th>0</th>\n",
       "      <td>nowosądecki</td>\n",
       "      <td>małopolskie</td>\n",
       "      <td>2.724871</td>\n",
       "      <td>-1.006781</td>\n",
       "      <td>-0.662720</td>\n",
       "      <td>-1.261771</td>\n",
       "      <td>NaN</td>\n",
       "      <td>NaN</td>\n",
       "    </tr>\n",
       "    <tr>\n",
       "      <th>1</th>\n",
       "      <td>tarnowski</td>\n",
       "      <td>małopolskie</td>\n",
       "      <td>-0.389768</td>\n",
       "      <td>NaN</td>\n",
       "      <td>-2.521025</td>\n",
       "      <td>NaN</td>\n",
       "      <td>NaN</td>\n",
       "      <td>NaN</td>\n",
       "    </tr>\n",
       "    <tr>\n",
       "      <th>2</th>\n",
       "      <td>gorzowski</td>\n",
       "      <td>lubuskie</td>\n",
       "      <td>-0.296227</td>\n",
       "      <td>NaN</td>\n",
       "      <td>NaN</td>\n",
       "      <td>NaN</td>\n",
       "      <td>-0.926945</td>\n",
       "      <td>NaN</td>\n",
       "    </tr>\n",
       "    <tr>\n",
       "      <th>3</th>\n",
       "      <td>koniński</td>\n",
       "      <td>wielkopolskie</td>\n",
       "      <td>-0.789038</td>\n",
       "      <td>-1.081359</td>\n",
       "      <td>NaN</td>\n",
       "      <td>NaN</td>\n",
       "      <td>NaN</td>\n",
       "      <td>NaN</td>\n",
       "    </tr>\n",
       "    <tr>\n",
       "      <th>4</th>\n",
       "      <td>poznański</td>\n",
       "      <td>wielkopolskie</td>\n",
       "      <td>-0.467305</td>\n",
       "      <td>NaN</td>\n",
       "      <td>0.583345</td>\n",
       "      <td>-1.033830</td>\n",
       "      <td>NaN</td>\n",
       "      <td>NaN</td>\n",
       "    </tr>\n",
       "  </tbody>\n",
       "</table>\n",
       "</div>"
      ],
      "text/plain": [
       "        powiat    Województwo  Przestepstwa_średnia_powiaty  \\\n",
       "0  nowosądecki    małopolskie                      2.724871   \n",
       "1    tarnowski    małopolskie                     -0.389768   \n",
       "2    gorzowski       lubuskie                     -0.296227   \n",
       "3     koniński  wielkopolskie                     -0.789038   \n",
       "4    poznański  wielkopolskie                     -0.467305   \n",
       "\n",
       "   Bezrobotni_średnia_powiaty  Ceny mieszkan  Dochody na mieszkanca  \\\n",
       "0                   -1.006781      -0.662720              -1.261771   \n",
       "1                         NaN      -2.521025                    NaN   \n",
       "2                         NaN            NaN                    NaN   \n",
       "3                   -1.081359            NaN                    NaN   \n",
       "4                         NaN       0.583345              -1.033830   \n",
       "\n",
       "   Wynagrodzenie  Rozwody_średnia_powiaty  \n",
       "0            NaN                      NaN  \n",
       "1            NaN                      NaN  \n",
       "2      -0.926945                      NaN  \n",
       "3            NaN                      NaN  \n",
       "4            NaN                      NaN  "
      ]
     },
     "execution_count": 1020,
     "metadata": {},
     "output_type": "execute_result"
    }
   ],
   "source": [
    "merged.head()"
   ]
  },
  {
   "cell_type": "code",
   "execution_count": 1021,
   "metadata": {},
   "outputs": [
    {
     "name": "stdout",
     "output_type": "stream",
     "text": [
      "powiat                            0\n",
      "Województwo                       0\n",
      "Przestepstwa_średnia_powiaty      0\n",
      "Bezrobotni_średnia_powiaty      310\n",
      "Ceny mieszkan                   321\n",
      "Dochody na mieszkanca           358\n",
      "Wynagrodzenie                   321\n",
      "Rozwody_średnia_powiaty         291\n",
      "dtype: int64\n"
     ]
    }
   ],
   "source": [
    "print(merged.isnull().sum())"
   ]
  },
  {
   "cell_type": "code",
   "execution_count": 1022,
   "metadata": {},
   "outputs": [
    {
     "name": "stderr",
     "output_type": "stream",
     "text": [
      "C:\\Users\\KamilSarzyniak\\AppData\\Local\\Temp\\ipykernel_6992\\388850915.py:1: FutureWarning: The default value of numeric_only in DataFrame.mean is deprecated. In a future version, it will default to False. In addition, specifying 'numeric_only=None' is deprecated. Select only valid columns or specify the value of numeric_only to silence this warning.\n",
      "  merged.fillna(merged.mean(), inplace=True)\n"
     ]
    }
   ],
   "source": [
    "merged.fillna(merged.mean(), inplace=True)"
   ]
  },
  {
   "cell_type": "code",
   "execution_count": 1023,
   "metadata": {},
   "outputs": [
    {
     "name": "stdout",
     "output_type": "stream",
     "text": [
      "powiat                          0\n",
      "Województwo                     0\n",
      "Przestepstwa_średnia_powiaty    0\n",
      "Bezrobotni_średnia_powiaty      0\n",
      "Ceny mieszkan                   0\n",
      "Dochody na mieszkanca           0\n",
      "Wynagrodzenie                   0\n",
      "Rozwody_średnia_powiaty         0\n",
      "dtype: int64\n"
     ]
    }
   ],
   "source": [
    "print(merged.isnull().sum())"
   ]
  },
  {
   "cell_type": "code",
   "execution_count": 1024,
   "metadata": {},
   "outputs": [
    {
     "data": {
      "text/html": [
       "<div>\n",
       "<style scoped>\n",
       "    .dataframe tbody tr th:only-of-type {\n",
       "        vertical-align: middle;\n",
       "    }\n",
       "\n",
       "    .dataframe tbody tr th {\n",
       "        vertical-align: top;\n",
       "    }\n",
       "\n",
       "    .dataframe thead th {\n",
       "        text-align: right;\n",
       "    }\n",
       "</style>\n",
       "<table border=\"1\" class=\"dataframe\">\n",
       "  <thead>\n",
       "    <tr style=\"text-align: right;\">\n",
       "      <th></th>\n",
       "      <th>powiat</th>\n",
       "      <th>Województwo</th>\n",
       "      <th>Przestepstwa_średnia_powiaty</th>\n",
       "      <th>Bezrobotni_średnia_powiaty</th>\n",
       "      <th>Ceny mieszkan</th>\n",
       "      <th>Dochody na mieszkanca</th>\n",
       "      <th>Wynagrodzenie</th>\n",
       "      <th>Rozwody_średnia_powiaty</th>\n",
       "    </tr>\n",
       "  </thead>\n",
       "  <tbody>\n",
       "    <tr>\n",
       "      <th>0</th>\n",
       "      <td>nowosądecki</td>\n",
       "      <td>małopolskie</td>\n",
       "      <td>2.724871</td>\n",
       "      <td>-1.006781</td>\n",
       "      <td>-0.662720</td>\n",
       "      <td>-1.261771</td>\n",
       "      <td>-0.722054</td>\n",
       "      <td>-1.011636</td>\n",
       "    </tr>\n",
       "    <tr>\n",
       "      <th>1</th>\n",
       "      <td>tarnowski</td>\n",
       "      <td>małopolskie</td>\n",
       "      <td>-0.389768</td>\n",
       "      <td>-0.577635</td>\n",
       "      <td>-2.521025</td>\n",
       "      <td>-0.764277</td>\n",
       "      <td>-0.722054</td>\n",
       "      <td>-1.011636</td>\n",
       "    </tr>\n",
       "    <tr>\n",
       "      <th>2</th>\n",
       "      <td>gorzowski</td>\n",
       "      <td>lubuskie</td>\n",
       "      <td>-0.296227</td>\n",
       "      <td>-0.577635</td>\n",
       "      <td>-0.765357</td>\n",
       "      <td>-0.764277</td>\n",
       "      <td>-0.926945</td>\n",
       "      <td>-1.011636</td>\n",
       "    </tr>\n",
       "    <tr>\n",
       "      <th>3</th>\n",
       "      <td>koniński</td>\n",
       "      <td>wielkopolskie</td>\n",
       "      <td>-0.789038</td>\n",
       "      <td>-1.081359</td>\n",
       "      <td>-0.765357</td>\n",
       "      <td>-0.764277</td>\n",
       "      <td>-0.722054</td>\n",
       "      <td>-1.011636</td>\n",
       "    </tr>\n",
       "    <tr>\n",
       "      <th>4</th>\n",
       "      <td>poznański</td>\n",
       "      <td>wielkopolskie</td>\n",
       "      <td>-0.467305</td>\n",
       "      <td>-0.577635</td>\n",
       "      <td>0.583345</td>\n",
       "      <td>-1.033830</td>\n",
       "      <td>-0.722054</td>\n",
       "      <td>-1.011636</td>\n",
       "    </tr>\n",
       "    <tr>\n",
       "      <th>...</th>\n",
       "      <td>...</td>\n",
       "      <td>...</td>\n",
       "      <td>...</td>\n",
       "      <td>...</td>\n",
       "      <td>...</td>\n",
       "      <td>...</td>\n",
       "      <td>...</td>\n",
       "      <td>...</td>\n",
       "    </tr>\n",
       "    <tr>\n",
       "      <th>515</th>\n",
       "      <td>siedlecki</td>\n",
       "      <td>mazowieckie</td>\n",
       "      <td>-0.753135</td>\n",
       "      <td>-0.577635</td>\n",
       "      <td>0.770892</td>\n",
       "      <td>-0.764277</td>\n",
       "      <td>-0.722054</td>\n",
       "      <td>-1.011636</td>\n",
       "    </tr>\n",
       "    <tr>\n",
       "      <th>516</th>\n",
       "      <td>sokołowski</td>\n",
       "      <td>mazowieckie</td>\n",
       "      <td>-0.170278</td>\n",
       "      <td>-0.577635</td>\n",
       "      <td>-0.765357</td>\n",
       "      <td>-0.764277</td>\n",
       "      <td>-5.158247</td>\n",
       "      <td>-1.011636</td>\n",
       "    </tr>\n",
       "    <tr>\n",
       "      <th>517</th>\n",
       "      <td>węgrowski</td>\n",
       "      <td>mazowieckie</td>\n",
       "      <td>-0.536772</td>\n",
       "      <td>-0.577635</td>\n",
       "      <td>-0.765357</td>\n",
       "      <td>-0.764277</td>\n",
       "      <td>-0.722054</td>\n",
       "      <td>-1.011636</td>\n",
       "    </tr>\n",
       "    <tr>\n",
       "      <th>518</th>\n",
       "      <td>sochaczewski</td>\n",
       "      <td>mazowieckie</td>\n",
       "      <td>-0.200329</td>\n",
       "      <td>-0.577635</td>\n",
       "      <td>-0.765357</td>\n",
       "      <td>-0.764277</td>\n",
       "      <td>0.524146</td>\n",
       "      <td>-2.441546</td>\n",
       "    </tr>\n",
       "    <tr>\n",
       "      <th>519</th>\n",
       "      <td>żyrardowski</td>\n",
       "      <td>mazowieckie</td>\n",
       "      <td>0.140051</td>\n",
       "      <td>0.097310</td>\n",
       "      <td>-1.014929</td>\n",
       "      <td>-1.064680</td>\n",
       "      <td>-0.555878</td>\n",
       "      <td>-3.744107</td>\n",
       "    </tr>\n",
       "  </tbody>\n",
       "</table>\n",
       "<p>520 rows × 8 columns</p>\n",
       "</div>"
      ],
      "text/plain": [
       "           powiat    Województwo  Przestepstwa_średnia_powiaty  \\\n",
       "0     nowosądecki    małopolskie                      2.724871   \n",
       "1       tarnowski    małopolskie                     -0.389768   \n",
       "2       gorzowski       lubuskie                     -0.296227   \n",
       "3        koniński  wielkopolskie                     -0.789038   \n",
       "4       poznański  wielkopolskie                     -0.467305   \n",
       "..            ...            ...                           ...   \n",
       "515     siedlecki    mazowieckie                     -0.753135   \n",
       "516    sokołowski    mazowieckie                     -0.170278   \n",
       "517     węgrowski    mazowieckie                     -0.536772   \n",
       "518  sochaczewski    mazowieckie                     -0.200329   \n",
       "519   żyrardowski    mazowieckie                      0.140051   \n",
       "\n",
       "     Bezrobotni_średnia_powiaty  Ceny mieszkan  Dochody na mieszkanca  \\\n",
       "0                     -1.006781      -0.662720              -1.261771   \n",
       "1                     -0.577635      -2.521025              -0.764277   \n",
       "2                     -0.577635      -0.765357              -0.764277   \n",
       "3                     -1.081359      -0.765357              -0.764277   \n",
       "4                     -0.577635       0.583345              -1.033830   \n",
       "..                          ...            ...                    ...   \n",
       "515                   -0.577635       0.770892              -0.764277   \n",
       "516                   -0.577635      -0.765357              -0.764277   \n",
       "517                   -0.577635      -0.765357              -0.764277   \n",
       "518                   -0.577635      -0.765357              -0.764277   \n",
       "519                    0.097310      -1.014929              -1.064680   \n",
       "\n",
       "     Wynagrodzenie  Rozwody_średnia_powiaty  \n",
       "0        -0.722054                -1.011636  \n",
       "1        -0.722054                -1.011636  \n",
       "2        -0.926945                -1.011636  \n",
       "3        -0.722054                -1.011636  \n",
       "4        -0.722054                -1.011636  \n",
       "..             ...                      ...  \n",
       "515      -0.722054                -1.011636  \n",
       "516      -5.158247                -1.011636  \n",
       "517      -0.722054                -1.011636  \n",
       "518       0.524146                -2.441546  \n",
       "519      -0.555878                -3.744107  \n",
       "\n",
       "[520 rows x 8 columns]"
      ]
     },
     "execution_count": 1024,
     "metadata": {},
     "output_type": "execute_result"
    }
   ],
   "source": [
    "merged"
   ]
  },
  {
   "cell_type": "code",
   "execution_count": 1025,
   "metadata": {},
   "outputs": [
    {
     "name": "stdout",
     "output_type": "stream",
     "text": [
      "                                 OLS Regression Results                                 \n",
      "========================================================================================\n",
      "Dep. Variable:     Przestepstwa_średnia_powiaty   R-squared:                       0.026\n",
      "Model:                                      OLS   Adj. R-squared:                  0.017\n",
      "Method:                           Least Squares   F-statistic:                     2.747\n",
      "Date:                          Mon, 09 Dec 2024   Prob (F-statistic):             0.0184\n",
      "Time:                                  21:06:52   Log-Likelihood:                -730.99\n",
      "No. Observations:                           520   AIC:                             1474.\n",
      "Df Residuals:                               514   BIC:                             1500.\n",
      "Df Model:                                     5                                         \n",
      "Covariance Type:                      nonrobust                                         \n",
      "==============================================================================================\n",
      "                                 coef    std err          t      P>|t|      [0.025      0.975]\n",
      "----------------------------------------------------------------------------------------------\n",
      "const                          0.1530      0.090      1.701      0.090      -0.024       0.330\n",
      "Bezrobotni_średnia_powiaty    -0.1064      0.059     -1.815      0.070      -0.222       0.009\n",
      "Ceny mieszkan                  0.0159      0.056      0.285      0.776      -0.094       0.125\n",
      "Dochody na mieszkanca          0.1342      0.051      2.607      0.009       0.033       0.235\n",
      "Wynagrodzenie                  0.0158      0.057      0.275      0.783      -0.097       0.128\n",
      "Rozwody_średnia_powiaty        0.0873      0.050      1.744      0.082      -0.011       0.186\n",
      "==============================================================================\n",
      "Omnibus:                      678.354   Durbin-Watson:                   1.583\n",
      "Prob(Omnibus):                  0.000   Jarque-Bera (JB):            98620.555\n",
      "Skew:                           6.450   Prob(JB):                         0.00\n",
      "Kurtosis:                      69.222   Cond. No.                         4.98\n",
      "==============================================================================\n",
      "\n",
      "Notes:\n",
      "[1] Standard Errors assume that the covariance matrix of the errors is correctly specified.\n"
     ]
    }
   ],
   "source": [
    "X = merged[['Bezrobotni_średnia_powiaty', 'Ceny mieszkan', 'Dochody na mieszkanca',\n",
    "       'Wynagrodzenie', 'Rozwody_średnia_powiaty']]\n",
    "X = sm.add_constant(X)\n",
    "y = merged['Przestepstwa_średnia_powiaty']\n",
    "\n",
    "#merged.fillna(merged.mean(), inplace=True)\n",
    "\n",
    "model = sm.OLS(y, X).fit()\n",
    "print(model.summary())"
   ]
  },
  {
   "cell_type": "code",
   "execution_count": 1026,
   "metadata": {},
   "outputs": [
    {
     "data": {
      "image/png": "[encoded data removed]",
      "text/plain": [
       "<Figure size 640x480 with 1 Axes>"
      ]
     },
     "metadata": {},
     "output_type": "display_data"
    }
   ],
   "source": [
    "residuals = model.resid\n",
    "\n",
    "sns.histplot(residuals, kde=True)\n",
    "plt.title(\"Reszty modelu\")\n",
    "plt.xlabel(\"Reszty\")\n",
    "plt.show()\n"
   ]
  },
  {
   "cell_type": "code",
   "execution_count": 1027,
   "metadata": {},
   "outputs": [
    {
     "name": "stdout",
     "output_type": "stream",
     "text": [
      "R2: 0.05528734744622066\n",
      "MSE: 0.44924964225809927\n",
      "                      Feature  Coefficient\n",
      "0                       const     0.000000\n",
      "1  Bezrobotni_średnia_powiaty    -0.103371\n",
      "2               Ceny mieszkan     0.001272\n",
      "3       Dochody na mieszkanca     0.131941\n",
      "4               Wynagrodzenie     0.029042\n",
      "5     Rozwody_średnia_powiaty     0.082976\n"
     ]
    }
   ],
   "source": [
    "from sklearn.linear_model import LinearRegression\n",
    "from sklearn.model_selection import train_test_split\n",
    "from sklearn.metrics import mean_squared_error, r2_score\n",
    "\n",
    "X_train, X_test, y_train, y_test = train_test_split(X, y, test_size=0.2, random_state=42)\n",
    "\n",
    "model = LinearRegression()\n",
    "model.fit(X_train, y_train)\n",
    "\n",
    "y_pred = model.predict(X_test)\n",
    "\n",
    "print(\"R2:\", r2_score(y_test, y_pred))\n",
    "print(\"MSE:\", mean_squared_error(y_test, y_pred))\n",
    "\n",
    "coefficients = pd.DataFrame({'Feature': X.columns, 'Coefficient': model.coef_})\n",
    "print(coefficients)\n"
   ]
  }
 ],
 "metadata": {
  "kernelspec": {
   "display_name": "py10",
   "language": "python",
   "name": "python3"
  },
  "language_info": {
   "codemirror_mode": {
    "name": "ipython",
    "version": 3
   },
   "file_extension": ".py",
   "mimetype": "text/x-python",
   "name": "python",
   "nbconvert_exporter": "python",
   "pygments_lexer": "ipython3",
   "version": "3.10.6"
  }
 },
 "nbformat": 4,
 "nbformat_minor": 2
}
