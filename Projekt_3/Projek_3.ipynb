{
 "cells": [
  {
   "cell_type": "code",
   "execution_count": 99,
   "metadata": {},
   "outputs": [],
   "source": [
    "import pandas as pd"
   ]
  },
  {
   "cell_type": "code",
   "execution_count": 100,
   "metadata": {},
   "outputs": [],
   "source": [
    "bezrobotni = pd.read_csv(\"Bezrobotni.csv\")\n",
    "ceny = pd.read_csv(\"Ceny_mieszkan.csv\")\n",
    "dochody = pd.read_csv(\"Dochody_na_mieszkanca.csv\")\n",
    "wynagrodzenie = pd.read_csv(\"Przecietne_wynagrodzenie.csv\")\n",
    "rozwody = pd.read_csv(\"Rozwody_i_separacje.csv\")\n",
    "ludnosc = pd.read_csv(\"Ludnosc.csv\")"
   ]
  },
  {
   "cell_type": "code",
   "execution_count": 101,
   "metadata": {},
   "outputs": [],
   "source": [
    "list = [bezrobotni, ceny, dochody, wynagrodzenie, rozwody]\n",
    "\n",
    "for i in list:\n",
    "    i.drop(['oid', 'kod KTS', 'powierzchnia', 'rok', 'TERYT', 'Typ powiatu', 'TERYT województwa'], axis=1, inplace=True)"
   ]
  },
  {
   "cell_type": "code",
   "execution_count": 102,
   "metadata": {},
   "outputs": [],
   "source": [
    "bezrobotni.rename(columns={\n",
    "    'Bezrobotni zarejestrowani pozostający bez pracy dłużej niż 1 rok|ogółem' : 'Bezrobotni'\n",
    "}, inplace=True)\n",
    "ceny.rename(columns={\n",
    "    'Średnia cena lokali mieszkalnych sprzedanych w ramach transakcji rynkowych|ogółem|ogółem' : 'Ceny mieszkan'\n",
    "}, inplace=True)\n",
    "dochody.rename(columns={\n",
    "    'Dochody na 1 mieszkańca|gminy łącznie z miastami na prawach powiatu|ogółem' : 'Dochody na mieszkanca'\n",
    "}, inplace=True)\n",
    "wynagrodzenie.rename(columns={\n",
    "    'Przeciętne miesięczne wynagrodzenia brutto|ogółem' : 'Wynagrodzenie'\n",
    "}, inplace=True)\n",
    "rozwody.rename(columns={\n",
    "    'Rozwody i separacje|rozwody|ogółem' : 'Rozwody i separacje'\n",
    "}, inplace=True)"
   ]
  },
  {
   "cell_type": "code",
   "execution_count": 103,
   "metadata": {},
   "outputs": [
    {
     "data": {
      "text/html": [
       "<div>\n",
       "<style scoped>\n",
       "    .dataframe tbody tr th:only-of-type {\n",
       "        vertical-align: middle;\n",
       "    }\n",
       "\n",
       "    .dataframe tbody tr th {\n",
       "        vertical-align: top;\n",
       "    }\n",
       "\n",
       "    .dataframe thead th {\n",
       "        text-align: right;\n",
       "    }\n",
       "</style>\n",
       "<table border=\"1\" class=\"dataframe\">\n",
       "  <thead>\n",
       "    <tr style=\"text-align: right;\">\n",
       "      <th></th>\n",
       "      <th>powiat</th>\n",
       "      <th>Województwo</th>\n",
       "      <th>Bezrobotni</th>\n",
       "    </tr>\n",
       "  </thead>\n",
       "  <tbody>\n",
       "    <tr>\n",
       "      <th>0</th>\n",
       "      <td>nowosądecki</td>\n",
       "      <td>małopolskie</td>\n",
       "      <td>3256.0</td>\n",
       "    </tr>\n",
       "    <tr>\n",
       "      <th>1</th>\n",
       "      <td>tarnowski</td>\n",
       "      <td>małopolskie</td>\n",
       "      <td>2009.0</td>\n",
       "    </tr>\n",
       "    <tr>\n",
       "      <th>2</th>\n",
       "      <td>gorzowski</td>\n",
       "      <td>lubuskie</td>\n",
       "      <td>402.0</td>\n",
       "    </tr>\n",
       "    <tr>\n",
       "      <th>3</th>\n",
       "      <td>koniński</td>\n",
       "      <td>wielkopolskie</td>\n",
       "      <td>1928.0</td>\n",
       "    </tr>\n",
       "    <tr>\n",
       "      <th>4</th>\n",
       "      <td>poznański</td>\n",
       "      <td>wielkopolskie</td>\n",
       "      <td>913.0</td>\n",
       "    </tr>\n",
       "  </tbody>\n",
       "</table>\n",
       "</div>"
      ],
      "text/plain": [
       "        powiat    Województwo  Bezrobotni\n",
       "0  nowosądecki    małopolskie      3256.0\n",
       "1    tarnowski    małopolskie      2009.0\n",
       "2    gorzowski       lubuskie       402.0\n",
       "3     koniński  wielkopolskie      1928.0\n",
       "4    poznański  wielkopolskie       913.0"
      ]
     },
     "execution_count": 103,
     "metadata": {},
     "output_type": "execute_result"
    }
   ],
   "source": [
    "bezrobotni.head()"
   ]
  },
  {
   "cell_type": "code",
   "execution_count": 104,
   "metadata": {},
   "outputs": [
    {
     "name": "stdout",
     "output_type": "stream",
     "text": [
      "                powiat  Ludnosc_powiaty\n",
      "0        bolesławiecki            90103\n",
      "1       dzierżoniowski           100813\n",
      "2            głogowski            89102\n",
      "3             górowski            34870\n",
      "4             jaworski            50116\n",
      "..                 ...              ...\n",
      "375         świdwiński            46724\n",
      "376            wałecki            53039\n",
      "377           Koszalin           107048\n",
      "378           Szczecin           401907\n",
      "379        Świnoujście            40888\n",
      "\n",
      "[380 rows x 2 columns]\n"
     ]
    }
   ],
   "source": [
    "ludnosc.columns = ludnosc.columns.str.strip()\n",
    "\n",
    "ludnosc = pd.DataFrame({\n",
    "    'powiat': ludnosc['Powiaty'],\n",
    "    'Ludnosc_powiaty': ludnosc['Ludnosc']\n",
    "})\n",
    "\n",
    "print(ludnosc)"
   ]
  },
  {
   "cell_type": "code",
   "execution_count": 105,
   "metadata": {},
   "outputs": [],
   "source": [
    "bezrobotni['powiat'] = bezrobotni['powiat'].str.strip()\n",
    "ludnosc['powiat'] = ludnosc['powiat'].str.strip()"
   ]
  },
  {
   "cell_type": "code",
   "execution_count": 106,
   "metadata": {},
   "outputs": [],
   "source": [
    "bezrobotni_merge = bezrobotni.merge(ludnosc, on='powiat')"
   ]
  },
  {
   "cell_type": "code",
   "execution_count": 107,
   "metadata": {},
   "outputs": [],
   "source": [
    "bezrobotni_merge['Bezrobotni_średnia_powiaty'] = (bezrobotni_merge['Bezrobotni']/bezrobotni_merge['Ludnosc_powiaty'])"
   ]
  },
  {
   "cell_type": "code",
   "execution_count": 108,
   "metadata": {},
   "outputs": [
    {
     "name": "stdout",
     "output_type": "stream",
     "text": [
      "           powiat  Bezrobotni  Ludnosc_powiaty  Bezrobotni_średnia_powiaty\n",
      "0     nowosądecki      3256.0           216796                    0.015019\n",
      "1       tarnowski      2009.0           201497                    0.009970\n",
      "2       gorzowski       402.0            71836                    0.005596\n",
      "3        koniński      1928.0           130053                    0.014825\n",
      "4       poznański       913.0           399272                    0.002287\n",
      "..            ...         ...              ...                         ...\n",
      "395     siedlecki       585.0            81362                    0.007190\n",
      "396    sokołowski       571.0            53804                    0.010613\n",
      "397     węgrowski       789.0            65822                    0.011987\n",
      "398  sochaczewski       525.0            85045                    0.006173\n",
      "399   żyrardowski      1550.0            75749                    0.020462\n",
      "\n",
      "[400 rows x 4 columns]\n"
     ]
    }
   ],
   "source": [
    "print(bezrobotni_merge[['powiat', 'Bezrobotni', 'Ludnosc_powiaty', 'Bezrobotni_średnia_powiaty']])"
   ]
  },
  {
   "cell_type": "code",
   "execution_count": 109,
   "metadata": {},
   "outputs": [
    {
     "data": {
      "text/plain": [
       "<bound method DataFrame.isnull of            powiat    Województwo  Bezrobotni\n",
       "0     nowosądecki    małopolskie      3256.0\n",
       "1       tarnowski    małopolskie      2009.0\n",
       "2       gorzowski       lubuskie       402.0\n",
       "3        koniński  wielkopolskie      1928.0\n",
       "4       poznański  wielkopolskie       913.0\n",
       "..            ...            ...         ...\n",
       "375     siedlecki    mazowieckie       585.0\n",
       "376    sokołowski    mazowieckie       571.0\n",
       "377     węgrowski    mazowieckie       789.0\n",
       "378  sochaczewski    mazowieckie       525.0\n",
       "379   żyrardowski    mazowieckie      1550.0\n",
       "\n",
       "[380 rows x 3 columns]>"
      ]
     },
     "execution_count": 109,
     "metadata": {},
     "output_type": "execute_result"
    }
   ],
   "source": [
    "bezrobotni.isnull"
   ]
  },
  {
   "cell_type": "code",
   "execution_count": null,
   "metadata": {},
   "outputs": [],
   "source": []
  }
 ],
 "metadata": {
  "kernelspec": {
   "display_name": "py10",
   "language": "python",
   "name": "python3"
  },
  "language_info": {
   "codemirror_mode": {
    "name": "ipython",
    "version": 3
   },
   "file_extension": ".py",
   "mimetype": "text/x-python",
   "name": "python",
   "nbconvert_exporter": "python",
   "pygments_lexer": "ipython3",
   "version": "3.10.6"
  }
 },
 "nbformat": 4,
 "nbformat_minor": 2
}
