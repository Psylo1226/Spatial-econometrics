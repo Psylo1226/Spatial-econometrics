{
 "cells": [
  {
   "cell_type": "code",
   "execution_count": 1060,
   "metadata": {},
   "outputs": [],
   "source": [
    "import pandas as pd\n",
    "import numpy as np\n",
    "import geopandas as gpd\n",
    "import matplotlib.pyplot as plt\n",
    "import statsmodels.api as sm\n",
    "from functools import reduce\n",
    "import seaborn as sns"
   ]
  },
  {
   "cell_type": "code",
   "execution_count": 1061,
   "metadata": {},
   "outputs": [],
   "source": [
    "przestepstwa = pd.read_csv(\"Przestepstwa_pow.csv\")\n",
    "pow = pd.read_csv(\"Przestepstwa_pow.csv\")\n",
    "bezrobotni = pd.read_csv(\"Bezrobotni.csv\")\n",
    "ceny = pd.read_csv(\"Ceny_mieszkan.csv\")\n",
    "dochody = pd.read_csv(\"Dochody_na_mieszkanca.csv\")\n",
    "wynagrodzenie = pd.read_csv(\"Przecietne_wynagrodzenie.csv\")\n",
    "rozwody = pd.read_csv(\"Rozwody_i_separacje.csv\")\n",
    "ludnosc = pd.read_csv(\"Ludnosc.csv\")\n",
    "pow_map = \"powiaty.shp\"\n",
    "pow_m = gpd.read_file(pow_map)"
   ]
  },
  {
   "cell_type": "code",
   "execution_count": 1062,
   "metadata": {},
   "outputs": [],
   "source": [
    "list = [przestepstwa, bezrobotni, ceny, dochody, wynagrodzenie, rozwody]\n",
    "\n",
    "for i in list:\n",
    "    i.drop(['oid', 'kod KTS', 'powierzchnia', 'rok', 'TERYT', 'Typ powiatu', 'TERYT województwa'], axis=1, inplace=True)"
   ]
  },
  {
   "cell_type": "code",
   "execution_count": 1063,
   "metadata": {},
   "outputs": [],
   "source": [
    "przestepstwa.rename(columns={\n",
    "    'Przestępstwa stwierdzone przez Policję w zakończonych postępowaniach przygotowawczych|ogółem' : 'Przestepstwa'\n",
    "}, inplace=True)\n",
    "bezrobotni.rename(columns={\n",
    "    'Bezrobotni zarejestrowani pozostający bez pracy dłużej niż 1 rok|ogółem' : 'Bezrobotni'\n",
    "}, inplace=True)\n",
    "ceny.rename(columns={\n",
    "    'Średnia cena lokali mieszkalnych sprzedanych w ramach transakcji rynkowych|ogółem|ogółem' : 'Ceny mieszkan'\n",
    "}, inplace=True)\n",
    "dochody.rename(columns={\n",
    "    'Dochody na 1 mieszkańca|gminy łącznie z miastami na prawach powiatu|ogółem' : 'Dochody na mieszkanca'\n",
    "}, inplace=True)\n",
    "wynagrodzenie.rename(columns={\n",
    "    'Przeciętne miesięczne wynagrodzenia brutto|ogółem' : 'Wynagrodzenie'\n",
    "}, inplace=True)\n",
    "rozwody.rename(columns={\n",
    "    'Rozwody i separacje|rozwody|ogółem' : 'Rozwody i separacje'\n",
    "}, inplace=True)"
   ]
  },
  {
   "cell_type": "code",
   "execution_count": 1064,
   "metadata": {},
   "outputs": [
    {
     "name": "stdout",
     "output_type": "stream",
     "text": [
      "                powiat  Ludnosc_powiaty\n",
      "0        bolesławiecki            90103\n",
      "1       dzierżoniowski           100813\n",
      "2            głogowski            89102\n",
      "3             górowski            34870\n",
      "4             jaworski            50116\n",
      "..                 ...              ...\n",
      "375         świdwiński            46724\n",
      "376            wałecki            53039\n",
      "377           Koszalin           107048\n",
      "378           Szczecin           401907\n",
      "379        Świnoujście            40888\n",
      "\n",
      "[380 rows x 2 columns]\n"
     ]
    }
   ],
   "source": [
    "ludnosc.columns = ludnosc.columns.str.strip()\n",
    "\n",
    "ludnosc = pd.DataFrame({\n",
    "    'powiat': ludnosc['Powiaty'],\n",
    "    'Ludnosc_powiaty': ludnosc['Ludnosc']\n",
    "})\n",
    "\n",
    "print(ludnosc)"
   ]
  },
  {
   "cell_type": "code",
   "execution_count": 1065,
   "metadata": {},
   "outputs": [
    {
     "data": {
      "text/html": [
       "<div>\n",
       "<style scoped>\n",
       "    .dataframe tbody tr th:only-of-type {\n",
       "        vertical-align: middle;\n",
       "    }\n",
       "\n",
       "    .dataframe tbody tr th {\n",
       "        vertical-align: top;\n",
       "    }\n",
       "\n",
       "    .dataframe thead th {\n",
       "        text-align: right;\n",
       "    }\n",
       "</style>\n",
       "<table border=\"1\" class=\"dataframe\">\n",
       "  <thead>\n",
       "    <tr style=\"text-align: right;\">\n",
       "      <th></th>\n",
       "      <th>powiat</th>\n",
       "      <th>Województwo</th>\n",
       "      <th>Przestepstwa</th>\n",
       "    </tr>\n",
       "  </thead>\n",
       "  <tbody>\n",
       "    <tr>\n",
       "      <th>0</th>\n",
       "      <td>nowosądecki</td>\n",
       "      <td>małopolskie</td>\n",
       "      <td>11958.0</td>\n",
       "    </tr>\n",
       "    <tr>\n",
       "      <th>1</th>\n",
       "      <td>tarnowski</td>\n",
       "      <td>małopolskie</td>\n",
       "      <td>2860.0</td>\n",
       "    </tr>\n",
       "    <tr>\n",
       "      <th>2</th>\n",
       "      <td>gorzowski</td>\n",
       "      <td>lubuskie</td>\n",
       "      <td>1108.0</td>\n",
       "    </tr>\n",
       "    <tr>\n",
       "      <th>3</th>\n",
       "      <td>koniński</td>\n",
       "      <td>wielkopolskie</td>\n",
       "      <td>1163.0</td>\n",
       "    </tr>\n",
       "    <tr>\n",
       "      <th>4</th>\n",
       "      <td>poznański</td>\n",
       "      <td>wielkopolskie</td>\n",
       "      <td>5260.0</td>\n",
       "    </tr>\n",
       "  </tbody>\n",
       "</table>\n",
       "</div>"
      ],
      "text/plain": [
       "        powiat    Województwo  Przestepstwa\n",
       "0  nowosądecki    małopolskie       11958.0\n",
       "1    tarnowski    małopolskie        2860.0\n",
       "2    gorzowski       lubuskie        1108.0\n",
       "3     koniński  wielkopolskie        1163.0\n",
       "4    poznański  wielkopolskie        5260.0"
      ]
     },
     "execution_count": 1065,
     "metadata": {},
     "output_type": "execute_result"
    }
   ],
   "source": [
    "przestepstwa.head()"
   ]
  },
  {
   "cell_type": "code",
   "execution_count": 1066,
   "metadata": {},
   "outputs": [],
   "source": [
    "przestepstwa['powiat'] = przestepstwa['powiat'].str.strip()\n",
    "ludnosc['powiat'] = ludnosc['powiat'].str.strip()"
   ]
  },
  {
   "cell_type": "code",
   "execution_count": 1067,
   "metadata": {},
   "outputs": [],
   "source": [
    "przestepstwa_merge = przestepstwa.merge(ludnosc, on='powiat')"
   ]
  },
  {
   "cell_type": "code",
   "execution_count": 1068,
   "metadata": {},
   "outputs": [],
   "source": [
    "przestepstwa_merge['Przestepstwa_średnia_powiaty'] = (przestepstwa_merge['Przestepstwa']/przestepstwa_merge['Ludnosc_powiaty'])"
   ]
  },
  {
   "cell_type": "code",
   "execution_count": 1069,
   "metadata": {},
   "outputs": [
    {
     "name": "stdout",
     "output_type": "stream",
     "text": [
      "           powiat  Przestepstwa_średnia_powiaty\n",
      "0     nowosądecki                      0.055158\n",
      "1       tarnowski                      0.014194\n",
      "2       gorzowski                      0.015424\n",
      "3        koniński                      0.008943\n",
      "4       poznański                      0.013174\n",
      "..            ...                           ...\n",
      "395     siedlecki                      0.009415\n",
      "396    sokołowski                      0.017081\n",
      "397     węgrowski                      0.012260\n",
      "398  sochaczewski                      0.016685\n",
      "399   żyrardowski                      0.021162\n",
      "\n",
      "[400 rows x 2 columns]\n"
     ]
    }
   ],
   "source": [
    "print(przestepstwa_merge[['powiat', 'Przestepstwa_średnia_powiaty']])"
   ]
  },
  {
   "cell_type": "code",
   "execution_count": 1070,
   "metadata": {},
   "outputs": [
    {
     "data": {
      "text/html": [
       "<div>\n",
       "<style scoped>\n",
       "    .dataframe tbody tr th:only-of-type {\n",
       "        vertical-align: middle;\n",
       "    }\n",
       "\n",
       "    .dataframe tbody tr th {\n",
       "        vertical-align: top;\n",
       "    }\n",
       "\n",
       "    .dataframe thead th {\n",
       "        text-align: right;\n",
       "    }\n",
       "</style>\n",
       "<table border=\"1\" class=\"dataframe\">\n",
       "  <thead>\n",
       "    <tr style=\"text-align: right;\">\n",
       "      <th></th>\n",
       "      <th>powiat</th>\n",
       "      <th>Województwo</th>\n",
       "      <th>Bezrobotni</th>\n",
       "    </tr>\n",
       "  </thead>\n",
       "  <tbody>\n",
       "    <tr>\n",
       "      <th>0</th>\n",
       "      <td>nowosądecki</td>\n",
       "      <td>małopolskie</td>\n",
       "      <td>3256.0</td>\n",
       "    </tr>\n",
       "    <tr>\n",
       "      <th>1</th>\n",
       "      <td>tarnowski</td>\n",
       "      <td>małopolskie</td>\n",
       "      <td>2009.0</td>\n",
       "    </tr>\n",
       "    <tr>\n",
       "      <th>2</th>\n",
       "      <td>gorzowski</td>\n",
       "      <td>lubuskie</td>\n",
       "      <td>402.0</td>\n",
       "    </tr>\n",
       "    <tr>\n",
       "      <th>3</th>\n",
       "      <td>koniński</td>\n",
       "      <td>wielkopolskie</td>\n",
       "      <td>1928.0</td>\n",
       "    </tr>\n",
       "    <tr>\n",
       "      <th>4</th>\n",
       "      <td>poznański</td>\n",
       "      <td>wielkopolskie</td>\n",
       "      <td>913.0</td>\n",
       "    </tr>\n",
       "  </tbody>\n",
       "</table>\n",
       "</div>"
      ],
      "text/plain": [
       "        powiat    Województwo  Bezrobotni\n",
       "0  nowosądecki    małopolskie      3256.0\n",
       "1    tarnowski    małopolskie      2009.0\n",
       "2    gorzowski       lubuskie       402.0\n",
       "3     koniński  wielkopolskie      1928.0\n",
       "4    poznański  wielkopolskie       913.0"
      ]
     },
     "execution_count": 1070,
     "metadata": {},
     "output_type": "execute_result"
    }
   ],
   "source": [
    "bezrobotni.head()"
   ]
  },
  {
   "cell_type": "code",
   "execution_count": 1071,
   "metadata": {},
   "outputs": [],
   "source": [
    "bezrobotni['powiat'] = bezrobotni['powiat'].str.strip()\n",
    "ludnosc['powiat'] = ludnosc['powiat'].str.strip()"
   ]
  },
  {
   "cell_type": "code",
   "execution_count": 1072,
   "metadata": {},
   "outputs": [],
   "source": [
    "bezrobotni_merge = bezrobotni.merge(ludnosc, on='powiat')"
   ]
  },
  {
   "cell_type": "code",
   "execution_count": 1073,
   "metadata": {},
   "outputs": [],
   "source": [
    "bezrobotni_merge['Bezrobotni_średnia_powiaty'] = (bezrobotni_merge['Bezrobotni']/bezrobotni_merge['Ludnosc_powiaty'])"
   ]
  },
  {
   "cell_type": "code",
   "execution_count": 1074,
   "metadata": {},
   "outputs": [
    {
     "name": "stdout",
     "output_type": "stream",
     "text": [
      "           powiat  Bezrobotni_średnia_powiaty\n",
      "0     nowosądecki                    0.015019\n",
      "1       tarnowski                    0.009970\n",
      "2       gorzowski                    0.005596\n",
      "3        koniński                    0.014825\n",
      "4       poznański                    0.002287\n",
      "..            ...                         ...\n",
      "395     siedlecki                    0.007190\n",
      "396    sokołowski                    0.010613\n",
      "397     węgrowski                    0.011987\n",
      "398  sochaczewski                    0.006173\n",
      "399   żyrardowski                    0.020462\n",
      "\n",
      "[400 rows x 2 columns]\n"
     ]
    }
   ],
   "source": [
    "print(bezrobotni_merge[['powiat', 'Bezrobotni_średnia_powiaty']])"
   ]
  },
  {
   "cell_type": "code",
   "execution_count": 1075,
   "metadata": {},
   "outputs": [
    {
     "data": {
      "text/html": [
       "<div>\n",
       "<style scoped>\n",
       "    .dataframe tbody tr th:only-of-type {\n",
       "        vertical-align: middle;\n",
       "    }\n",
       "\n",
       "    .dataframe tbody tr th {\n",
       "        vertical-align: top;\n",
       "    }\n",
       "\n",
       "    .dataframe thead th {\n",
       "        text-align: right;\n",
       "    }\n",
       "</style>\n",
       "<table border=\"1\" class=\"dataframe\">\n",
       "  <thead>\n",
       "    <tr style=\"text-align: right;\">\n",
       "      <th></th>\n",
       "      <th>powiat</th>\n",
       "      <th>Województwo</th>\n",
       "      <th>Rozwody i separacje</th>\n",
       "    </tr>\n",
       "  </thead>\n",
       "  <tbody>\n",
       "    <tr>\n",
       "      <th>0</th>\n",
       "      <td>nowosądecki</td>\n",
       "      <td>małopolskie</td>\n",
       "      <td>139.0</td>\n",
       "    </tr>\n",
       "    <tr>\n",
       "      <th>1</th>\n",
       "      <td>tarnowski</td>\n",
       "      <td>małopolskie</td>\n",
       "      <td>175.0</td>\n",
       "    </tr>\n",
       "    <tr>\n",
       "      <th>2</th>\n",
       "      <td>gorzowski</td>\n",
       "      <td>lubuskie</td>\n",
       "      <td>72.0</td>\n",
       "    </tr>\n",
       "    <tr>\n",
       "      <th>3</th>\n",
       "      <td>koniński</td>\n",
       "      <td>wielkopolskie</td>\n",
       "      <td>142.0</td>\n",
       "    </tr>\n",
       "    <tr>\n",
       "      <th>4</th>\n",
       "      <td>poznański</td>\n",
       "      <td>wielkopolskie</td>\n",
       "      <td>427.0</td>\n",
       "    </tr>\n",
       "  </tbody>\n",
       "</table>\n",
       "</div>"
      ],
      "text/plain": [
       "        powiat    Województwo  Rozwody i separacje\n",
       "0  nowosądecki    małopolskie                139.0\n",
       "1    tarnowski    małopolskie                175.0\n",
       "2    gorzowski       lubuskie                 72.0\n",
       "3     koniński  wielkopolskie                142.0\n",
       "4    poznański  wielkopolskie                427.0"
      ]
     },
     "execution_count": 1075,
     "metadata": {},
     "output_type": "execute_result"
    }
   ],
   "source": [
    "rozwody.head()"
   ]
  },
  {
   "cell_type": "code",
   "execution_count": 1076,
   "metadata": {},
   "outputs": [],
   "source": [
    "rozwody['powiat'] = rozwody['powiat'].str.strip()"
   ]
  },
  {
   "cell_type": "code",
   "execution_count": 1077,
   "metadata": {},
   "outputs": [],
   "source": [
    "rozwody_merge = rozwody.merge(ludnosc, on='powiat')"
   ]
  },
  {
   "cell_type": "code",
   "execution_count": 1078,
   "metadata": {},
   "outputs": [],
   "source": [
    "rozwody_merge['Rozwody_średnia_powiaty'] = (rozwody_merge['Rozwody i separacje']/rozwody_merge['Ludnosc_powiaty'])"
   ]
  },
  {
   "cell_type": "code",
   "execution_count": 1079,
   "metadata": {},
   "outputs": [
    {
     "name": "stdout",
     "output_type": "stream",
     "text": [
      "           powiat  Rozwody_średnia_powiaty\n",
      "0     nowosądecki                 0.000641\n",
      "1       tarnowski                 0.000868\n",
      "2       gorzowski                 0.001002\n",
      "3        koniński                 0.001092\n",
      "4       poznański                 0.001069\n",
      "..            ...                      ...\n",
      "395     siedlecki                 0.001020\n",
      "396    sokołowski                 0.000911\n",
      "397     węgrowski                 0.000912\n",
      "398  sochaczewski                 0.001329\n",
      "399   żyrardowski                 0.001294\n",
      "\n",
      "[400 rows x 2 columns]\n"
     ]
    }
   ],
   "source": [
    "print(rozwody_merge[['powiat', 'Rozwody_średnia_powiaty']])"
   ]
  },
  {
   "cell_type": "code",
   "execution_count": 1080,
   "metadata": {},
   "outputs": [
    {
     "name": "stdout",
     "output_type": "stream",
     "text": [
      "           powiat    Województwo  Przestepstwa_średnia_powiaty  \\\n",
      "0     nowosądecki    małopolskie                      0.055158   \n",
      "1       tarnowski    małopolskie                      0.014194   \n",
      "2       gorzowski       lubuskie                      0.015424   \n",
      "3        koniński  wielkopolskie                      0.008943   \n",
      "4       poznański  wielkopolskie                      0.013174   \n",
      "..            ...            ...                           ...   \n",
      "515     siedlecki    mazowieckie                      0.009415   \n",
      "516    sokołowski    mazowieckie                      0.017081   \n",
      "517     węgrowski    mazowieckie                      0.012260   \n",
      "518  sochaczewski    mazowieckie                      0.016685   \n",
      "519   żyrardowski    mazowieckie                      0.021162   \n",
      "\n",
      "     Bezrobotni_średnia_powiaty  Ceny mieszkan  Dochody na mieszkanca  \\\n",
      "0                      0.015019       242497.0                6290.69   \n",
      "1                      0.009970       210957.0                5333.95   \n",
      "2                      0.005596       202519.0                5901.75   \n",
      "3                      0.014825       131116.0                5782.76   \n",
      "4                      0.002287       335041.0                6356.78   \n",
      "..                          ...            ...                    ...   \n",
      "515                    0.007190       361840.0                5748.01   \n",
      "516                    0.010613       200539.0                5743.59   \n",
      "517                    0.011987       166708.0                5942.15   \n",
      "518                    0.006173       197440.0                5911.03   \n",
      "519                    0.020462       231404.0                6346.93   \n",
      "\n",
      "     Wynagrodzenie  Rozwody_średnia_powiaty  \n",
      "0          4160.76                 0.000641  \n",
      "1          4149.11                 0.000868  \n",
      "2          5012.81                 0.001002  \n",
      "3          4184.77                 0.001092  \n",
      "4          4776.27                 0.001069  \n",
      "..             ...                      ...  \n",
      "515        4503.92                 0.001020  \n",
      "516        4792.94                 0.000911  \n",
      "517        4589.75                 0.000912  \n",
      "518        5741.89                 0.001329  \n",
      "519        5113.05                 0.001294  \n",
      "\n",
      "[520 rows x 8 columns]\n"
     ]
    }
   ],
   "source": [
    "files_to_merge = [przestepstwa_merge, bezrobotni_merge, ceny, dochody, wynagrodzenie, rozwody_merge]\n",
    "\n",
    "stats =['powiat', 'Województwo']\n",
    "\n",
    "merged = reduce(lambda left, right: left.merge(right, on=stats, how='inner'), files_to_merge)\n",
    "merged.drop(['Przestepstwa', 'Ludnosc_powiaty_x', 'Bezrobotni', 'Ludnosc_powiaty_y', 'Rozwody i separacje', 'Ludnosc_powiaty'], axis=1, inplace=True)\n",
    "\n",
    "merged.to_csv(\"merged_output.csv\", index=False)\n",
    "\n",
    "print(merged)"
   ]
  },
  {
   "cell_type": "code",
   "execution_count": 1081,
   "metadata": {},
   "outputs": [
    {
     "data": {
      "text/plain": [
       "Index(['powiat', 'Województwo', 'Przestepstwa_średnia_powiaty',\n",
       "       'Bezrobotni_średnia_powiaty', 'Ceny mieszkan', 'Dochody na mieszkanca',\n",
       "       'Wynagrodzenie', 'Rozwody_średnia_powiaty'],\n",
       "      dtype='object')"
      ]
     },
     "execution_count": 1081,
     "metadata": {},
     "output_type": "execute_result"
    }
   ],
   "source": [
    "merged.columns"
   ]
  },
  {
   "cell_type": "code",
   "execution_count": 1082,
   "metadata": {},
   "outputs": [],
   "source": [
    "# from sklearn.preprocessing import StandardScaler\n",
    "\n",
    "# object = StandardScaler()\n",
    "\n",
    "# columns_to_standardize = [\n",
    "#     'Bezrobotni_średnia_powiaty', \n",
    "#     'Ceny mieszkan', \n",
    "#     'Dochody na mieszkanca', \n",
    "#     'Wynagrodzenie', \n",
    "#     'Rozwody_średnia_powiaty', \n",
    "#     'Przestepstwa_średnia_powiaty'\n",
    "# ]\n",
    "\n",
    "# data = merged[columns_to_standardize]\n",
    "\n",
    "# scaler = StandardScaler()\n",
    "\n",
    "# standardized_data = scaler.fit_transform(data)\n",
    "\n",
    "# standardized_data_df = pd.DataFrame(\n",
    "#     standardized_data, \n",
    "#     columns=columns_to_standardize,\n",
    "#     index=merged.index\n",
    "# )\n",
    "\n",
    "# # Drop original columns and add standardized ones\n",
    "# merged = merged.drop(columns=columns_to_standardize)\n",
    "# merged = pd.concat([merged, standardized_data_df], axis=1)\n",
    "\n",
    "# merged.to_csv('merged_standardized.csv', index=False)"
   ]
  },
  {
   "cell_type": "code",
   "execution_count": 1083,
   "metadata": {},
   "outputs": [],
   "source": [
    "# columns_to_logaritmize = [\n",
    "#     'Bezrobotni_średnia_powiaty', \n",
    "#     'Ceny mieszkan', \n",
    "#     'Dochody na mieszkanca', \n",
    "#     'Wynagrodzenie', \n",
    "#     'Rozwody_średnia_powiaty'\n",
    "# ]\n",
    "\n",
    "# merged_log = np.log(merged[columns_to_logaritmize])\n",
    "# merged_rest = merged.drop(columns=columns_to_logaritmize)\n",
    "# merged = pd.concat([merged_rest, merged_log], axis=1)"
   ]
  },
  {
   "cell_type": "code",
   "execution_count": 1084,
   "metadata": {},
   "outputs": [
    {
     "data": {
      "text/html": [
       "<div>\n",
       "<style scoped>\n",
       "    .dataframe tbody tr th:only-of-type {\n",
       "        vertical-align: middle;\n",
       "    }\n",
       "\n",
       "    .dataframe tbody tr th {\n",
       "        vertical-align: top;\n",
       "    }\n",
       "\n",
       "    .dataframe thead th {\n",
       "        text-align: right;\n",
       "    }\n",
       "</style>\n",
       "<table border=\"1\" class=\"dataframe\">\n",
       "  <thead>\n",
       "    <tr style=\"text-align: right;\">\n",
       "      <th></th>\n",
       "      <th>powiat</th>\n",
       "      <th>Województwo</th>\n",
       "      <th>Przestepstwa_średnia_powiaty</th>\n",
       "      <th>Bezrobotni_średnia_powiaty</th>\n",
       "      <th>Ceny mieszkan</th>\n",
       "      <th>Dochody na mieszkanca</th>\n",
       "      <th>Wynagrodzenie</th>\n",
       "      <th>Rozwody_średnia_powiaty</th>\n",
       "    </tr>\n",
       "  </thead>\n",
       "  <tbody>\n",
       "    <tr>\n",
       "      <th>0</th>\n",
       "      <td>nowosądecki</td>\n",
       "      <td>małopolskie</td>\n",
       "      <td>0.055158</td>\n",
       "      <td>0.015019</td>\n",
       "      <td>242497.0</td>\n",
       "      <td>6290.69</td>\n",
       "      <td>4160.76</td>\n",
       "      <td>0.000641</td>\n",
       "    </tr>\n",
       "    <tr>\n",
       "      <th>1</th>\n",
       "      <td>tarnowski</td>\n",
       "      <td>małopolskie</td>\n",
       "      <td>0.014194</td>\n",
       "      <td>0.009970</td>\n",
       "      <td>210957.0</td>\n",
       "      <td>5333.95</td>\n",
       "      <td>4149.11</td>\n",
       "      <td>0.000868</td>\n",
       "    </tr>\n",
       "    <tr>\n",
       "      <th>2</th>\n",
       "      <td>gorzowski</td>\n",
       "      <td>lubuskie</td>\n",
       "      <td>0.015424</td>\n",
       "      <td>0.005596</td>\n",
       "      <td>202519.0</td>\n",
       "      <td>5901.75</td>\n",
       "      <td>5012.81</td>\n",
       "      <td>0.001002</td>\n",
       "    </tr>\n",
       "    <tr>\n",
       "      <th>3</th>\n",
       "      <td>koniński</td>\n",
       "      <td>wielkopolskie</td>\n",
       "      <td>0.008943</td>\n",
       "      <td>0.014825</td>\n",
       "      <td>131116.0</td>\n",
       "      <td>5782.76</td>\n",
       "      <td>4184.77</td>\n",
       "      <td>0.001092</td>\n",
       "    </tr>\n",
       "    <tr>\n",
       "      <th>4</th>\n",
       "      <td>poznański</td>\n",
       "      <td>wielkopolskie</td>\n",
       "      <td>0.013174</td>\n",
       "      <td>0.002287</td>\n",
       "      <td>335041.0</td>\n",
       "      <td>6356.78</td>\n",
       "      <td>4776.27</td>\n",
       "      <td>0.001069</td>\n",
       "    </tr>\n",
       "  </tbody>\n",
       "</table>\n",
       "</div>"
      ],
      "text/plain": [
       "        powiat    Województwo  Przestepstwa_średnia_powiaty  \\\n",
       "0  nowosądecki    małopolskie                      0.055158   \n",
       "1    tarnowski    małopolskie                      0.014194   \n",
       "2    gorzowski       lubuskie                      0.015424   \n",
       "3     koniński  wielkopolskie                      0.008943   \n",
       "4    poznański  wielkopolskie                      0.013174   \n",
       "\n",
       "   Bezrobotni_średnia_powiaty  Ceny mieszkan  Dochody na mieszkanca  \\\n",
       "0                    0.015019       242497.0                6290.69   \n",
       "1                    0.009970       210957.0                5333.95   \n",
       "2                    0.005596       202519.0                5901.75   \n",
       "3                    0.014825       131116.0                5782.76   \n",
       "4                    0.002287       335041.0                6356.78   \n",
       "\n",
       "   Wynagrodzenie  Rozwody_średnia_powiaty  \n",
       "0        4160.76                 0.000641  \n",
       "1        4149.11                 0.000868  \n",
       "2        5012.81                 0.001002  \n",
       "3        4184.77                 0.001092  \n",
       "4        4776.27                 0.001069  "
      ]
     },
     "execution_count": 1084,
     "metadata": {},
     "output_type": "execute_result"
    }
   ],
   "source": [
    "merged.head()"
   ]
  },
  {
   "cell_type": "code",
   "execution_count": 1085,
   "metadata": {},
   "outputs": [
    {
     "name": "stdout",
     "output_type": "stream",
     "text": [
      "powiat                          0\n",
      "Województwo                     0\n",
      "Przestepstwa_średnia_powiaty    0\n",
      "Bezrobotni_średnia_powiaty      0\n",
      "Ceny mieszkan                   1\n",
      "Dochody na mieszkanca           0\n",
      "Wynagrodzenie                   0\n",
      "Rozwody_średnia_powiaty         0\n",
      "dtype: int64\n"
     ]
    }
   ],
   "source": [
    "print(merged.isnull().sum())"
   ]
  },
  {
   "cell_type": "code",
   "execution_count": 1086,
   "metadata": {},
   "outputs": [
    {
     "name": "stderr",
     "output_type": "stream",
     "text": [
      "C:\\Users\\KamilSarzyniak\\AppData\\Local\\Temp\\ipykernel_6992\\388850915.py:1: FutureWarning: The default value of numeric_only in DataFrame.mean is deprecated. In a future version, it will default to False. In addition, specifying 'numeric_only=None' is deprecated. Select only valid columns or specify the value of numeric_only to silence this warning.\n",
      "  merged.fillna(merged.mean(), inplace=True)\n"
     ]
    }
   ],
   "source": [
    "merged.fillna(merged.mean(), inplace=True)"
   ]
  },
  {
   "cell_type": "code",
   "execution_count": 1087,
   "metadata": {},
   "outputs": [
    {
     "name": "stdout",
     "output_type": "stream",
     "text": [
      "powiat                          0\n",
      "Województwo                     0\n",
      "Przestepstwa_średnia_powiaty    0\n",
      "Bezrobotni_średnia_powiaty      0\n",
      "Ceny mieszkan                   0\n",
      "Dochody na mieszkanca           0\n",
      "Wynagrodzenie                   0\n",
      "Rozwody_średnia_powiaty         0\n",
      "dtype: int64\n"
     ]
    }
   ],
   "source": [
    "print(merged.isnull().sum())"
   ]
  },
  {
   "cell_type": "code",
   "execution_count": 1088,
   "metadata": {},
   "outputs": [
    {
     "data": {
      "text/html": [
       "<div>\n",
       "<style scoped>\n",
       "    .dataframe tbody tr th:only-of-type {\n",
       "        vertical-align: middle;\n",
       "    }\n",
       "\n",
       "    .dataframe tbody tr th {\n",
       "        vertical-align: top;\n",
       "    }\n",
       "\n",
       "    .dataframe thead th {\n",
       "        text-align: right;\n",
       "    }\n",
       "</style>\n",
       "<table border=\"1\" class=\"dataframe\">\n",
       "  <thead>\n",
       "    <tr style=\"text-align: right;\">\n",
       "      <th></th>\n",
       "      <th>powiat</th>\n",
       "      <th>Województwo</th>\n",
       "      <th>Przestepstwa_średnia_powiaty</th>\n",
       "      <th>Bezrobotni_średnia_powiaty</th>\n",
       "      <th>Ceny mieszkan</th>\n",
       "      <th>Dochody na mieszkanca</th>\n",
       "      <th>Wynagrodzenie</th>\n",
       "      <th>Rozwody_średnia_powiaty</th>\n",
       "    </tr>\n",
       "  </thead>\n",
       "  <tbody>\n",
       "    <tr>\n",
       "      <th>0</th>\n",
       "      <td>nowosądecki</td>\n",
       "      <td>małopolskie</td>\n",
       "      <td>0.055158</td>\n",
       "      <td>0.015019</td>\n",
       "      <td>242497.0</td>\n",
       "      <td>6290.69</td>\n",
       "      <td>4160.76</td>\n",
       "      <td>0.000641</td>\n",
       "    </tr>\n",
       "    <tr>\n",
       "      <th>1</th>\n",
       "      <td>tarnowski</td>\n",
       "      <td>małopolskie</td>\n",
       "      <td>0.014194</td>\n",
       "      <td>0.009970</td>\n",
       "      <td>210957.0</td>\n",
       "      <td>5333.95</td>\n",
       "      <td>4149.11</td>\n",
       "      <td>0.000868</td>\n",
       "    </tr>\n",
       "    <tr>\n",
       "      <th>2</th>\n",
       "      <td>gorzowski</td>\n",
       "      <td>lubuskie</td>\n",
       "      <td>0.015424</td>\n",
       "      <td>0.005596</td>\n",
       "      <td>202519.0</td>\n",
       "      <td>5901.75</td>\n",
       "      <td>5012.81</td>\n",
       "      <td>0.001002</td>\n",
       "    </tr>\n",
       "    <tr>\n",
       "      <th>3</th>\n",
       "      <td>koniński</td>\n",
       "      <td>wielkopolskie</td>\n",
       "      <td>0.008943</td>\n",
       "      <td>0.014825</td>\n",
       "      <td>131116.0</td>\n",
       "      <td>5782.76</td>\n",
       "      <td>4184.77</td>\n",
       "      <td>0.001092</td>\n",
       "    </tr>\n",
       "    <tr>\n",
       "      <th>4</th>\n",
       "      <td>poznański</td>\n",
       "      <td>wielkopolskie</td>\n",
       "      <td>0.013174</td>\n",
       "      <td>0.002287</td>\n",
       "      <td>335041.0</td>\n",
       "      <td>6356.78</td>\n",
       "      <td>4776.27</td>\n",
       "      <td>0.001069</td>\n",
       "    </tr>\n",
       "    <tr>\n",
       "      <th>...</th>\n",
       "      <td>...</td>\n",
       "      <td>...</td>\n",
       "      <td>...</td>\n",
       "      <td>...</td>\n",
       "      <td>...</td>\n",
       "      <td>...</td>\n",
       "      <td>...</td>\n",
       "      <td>...</td>\n",
       "    </tr>\n",
       "    <tr>\n",
       "      <th>515</th>\n",
       "      <td>siedlecki</td>\n",
       "      <td>mazowieckie</td>\n",
       "      <td>0.009415</td>\n",
       "      <td>0.007190</td>\n",
       "      <td>361840.0</td>\n",
       "      <td>5748.01</td>\n",
       "      <td>4503.92</td>\n",
       "      <td>0.001020</td>\n",
       "    </tr>\n",
       "    <tr>\n",
       "      <th>516</th>\n",
       "      <td>sokołowski</td>\n",
       "      <td>mazowieckie</td>\n",
       "      <td>0.017081</td>\n",
       "      <td>0.010613</td>\n",
       "      <td>200539.0</td>\n",
       "      <td>5743.59</td>\n",
       "      <td>4792.94</td>\n",
       "      <td>0.000911</td>\n",
       "    </tr>\n",
       "    <tr>\n",
       "      <th>517</th>\n",
       "      <td>węgrowski</td>\n",
       "      <td>mazowieckie</td>\n",
       "      <td>0.012260</td>\n",
       "      <td>0.011987</td>\n",
       "      <td>166708.0</td>\n",
       "      <td>5942.15</td>\n",
       "      <td>4589.75</td>\n",
       "      <td>0.000912</td>\n",
       "    </tr>\n",
       "    <tr>\n",
       "      <th>518</th>\n",
       "      <td>sochaczewski</td>\n",
       "      <td>mazowieckie</td>\n",
       "      <td>0.016685</td>\n",
       "      <td>0.006173</td>\n",
       "      <td>197440.0</td>\n",
       "      <td>5911.03</td>\n",
       "      <td>5741.89</td>\n",
       "      <td>0.001329</td>\n",
       "    </tr>\n",
       "    <tr>\n",
       "      <th>519</th>\n",
       "      <td>żyrardowski</td>\n",
       "      <td>mazowieckie</td>\n",
       "      <td>0.021162</td>\n",
       "      <td>0.020462</td>\n",
       "      <td>231404.0</td>\n",
       "      <td>6346.93</td>\n",
       "      <td>5113.05</td>\n",
       "      <td>0.001294</td>\n",
       "    </tr>\n",
       "  </tbody>\n",
       "</table>\n",
       "<p>520 rows × 8 columns</p>\n",
       "</div>"
      ],
      "text/plain": [
       "           powiat    Województwo  Przestepstwa_średnia_powiaty  \\\n",
       "0     nowosądecki    małopolskie                      0.055158   \n",
       "1       tarnowski    małopolskie                      0.014194   \n",
       "2       gorzowski       lubuskie                      0.015424   \n",
       "3        koniński  wielkopolskie                      0.008943   \n",
       "4       poznański  wielkopolskie                      0.013174   \n",
       "..            ...            ...                           ...   \n",
       "515     siedlecki    mazowieckie                      0.009415   \n",
       "516    sokołowski    mazowieckie                      0.017081   \n",
       "517     węgrowski    mazowieckie                      0.012260   \n",
       "518  sochaczewski    mazowieckie                      0.016685   \n",
       "519   żyrardowski    mazowieckie                      0.021162   \n",
       "\n",
       "     Bezrobotni_średnia_powiaty  Ceny mieszkan  Dochody na mieszkanca  \\\n",
       "0                      0.015019       242497.0                6290.69   \n",
       "1                      0.009970       210957.0                5333.95   \n",
       "2                      0.005596       202519.0                5901.75   \n",
       "3                      0.014825       131116.0                5782.76   \n",
       "4                      0.002287       335041.0                6356.78   \n",
       "..                          ...            ...                    ...   \n",
       "515                    0.007190       361840.0                5748.01   \n",
       "516                    0.010613       200539.0                5743.59   \n",
       "517                    0.011987       166708.0                5942.15   \n",
       "518                    0.006173       197440.0                5911.03   \n",
       "519                    0.020462       231404.0                6346.93   \n",
       "\n",
       "     Wynagrodzenie  Rozwody_średnia_powiaty  \n",
       "0          4160.76                 0.000641  \n",
       "1          4149.11                 0.000868  \n",
       "2          5012.81                 0.001002  \n",
       "3          4184.77                 0.001092  \n",
       "4          4776.27                 0.001069  \n",
       "..             ...                      ...  \n",
       "515        4503.92                 0.001020  \n",
       "516        4792.94                 0.000911  \n",
       "517        4589.75                 0.000912  \n",
       "518        5741.89                 0.001329  \n",
       "519        5113.05                 0.001294  \n",
       "\n",
       "[520 rows x 8 columns]"
      ]
     },
     "execution_count": 1088,
     "metadata": {},
     "output_type": "execute_result"
    }
   ],
   "source": [
    "merged"
   ]
  },
  {
   "cell_type": "code",
   "execution_count": 1089,
   "metadata": {},
   "outputs": [
    {
     "name": "stdout",
     "output_type": "stream",
     "text": [
      "                                 OLS Regression Results                                 \n",
      "========================================================================================\n",
      "Dep. Variable:     Przestepstwa_średnia_powiaty   R-squared:                       0.151\n",
      "Model:                                      OLS   Adj. R-squared:                  0.143\n",
      "Method:                           Least Squares   F-statistic:                     18.34\n",
      "Date:                          Mon, 09 Dec 2024   Prob (F-statistic):           8.99e-17\n",
      "Time:                                  21:40:47   Log-Likelihood:                 1557.0\n",
      "No. Observations:                           520   AIC:                            -3102.\n",
      "Df Residuals:                               514   BIC:                            -3077.\n",
      "Df Model:                                     5                                         \n",
      "Covariance Type:                      nonrobust                                         \n",
      "==============================================================================================\n",
      "                                 coef    std err          t      P>|t|      [0.025      0.975]\n",
      "----------------------------------------------------------------------------------------------\n",
      "const                         -0.0101      0.005     -1.876      0.061      -0.021       0.000\n",
      "Bezrobotni_średnia_powiaty    -0.1661      0.076     -2.179      0.030      -0.316      -0.016\n",
      "Ceny mieszkan              -1.882e-08   9.42e-09     -1.998      0.046   -3.73e-08   -3.11e-10\n",
      "Dochody na mieszkanca       3.179e-06   7.11e-07      4.472      0.000    1.78e-06    4.58e-06\n",
      "Wynagrodzenie               1.758e-06   1.14e-06      1.543      0.123   -4.81e-07       4e-06\n",
      "Rozwody_średnia_powiaty        6.0406      1.011      5.974      0.000       4.054       8.027\n",
      "==============================================================================\n",
      "Omnibus:                      688.876   Durbin-Watson:                   1.761\n",
      "Prob(Omnibus):                  0.000   Jarque-Bera (JB):           110064.400\n",
      "Skew:                           6.597   Prob(JB):                         0.00\n",
      "Kurtosis:                      73.041   Cond. No.                     4.12e+08\n",
      "==============================================================================\n",
      "\n",
      "Notes:\n",
      "[1] Standard Errors assume that the covariance matrix of the errors is correctly specified.\n",
      "[2] The condition number is large, 4.12e+08. This might indicate that there are\n",
      "strong multicollinearity or other numerical problems.\n"
     ]
    }
   ],
   "source": [
    "X = merged[['Bezrobotni_średnia_powiaty', 'Ceny mieszkan', 'Dochody na mieszkanca',\n",
    "       'Wynagrodzenie', 'Rozwody_średnia_powiaty']]\n",
    "X = sm.add_constant(X)\n",
    "y = merged['Przestepstwa_średnia_powiaty']\n",
    "\n",
    "from sklearn.preprocessing import StandardScaler"\n",
    "scaler = StandardScaler()"\n",
    "X['Ceny mieszkan'] = scaler.fit_transform(X[['Ceny mieszkan']])\n",
    "X['Bezrobotni_średnia_powiaty'] = scaler.fit_transform(X[['Bezrobotni_średnia_powiaty']])\n",
    "X['Dochody na mieszkanca'] = scaler.fit_transform(X[['Dochody na mieszkanca']])\n",
    "X['Wynagrodzenie'] = scaler.fit_transform(X[['Wynagrodzenie']])\n",
    "X['Rozwody_średnia_powiaty'] = scaler.fit_transform(X[['Rozwody_średnia_powiaty']])\n",
    "\n",
    "model = sm.OLS(y, X).fit()\n",
    "print(model.summary())"
   ]
  },
  {
   "cell_type": "code",
   "execution_count": 1090,
   "metadata": {},
   "outputs": [
    {
     "data": {
      "image/png": "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",
      "text/plain": [
       "<Figure size 640x480 with 1 Axes>"
      ]
     },
     "metadata": {},
     "output_type": "display_data"
    }
   ],
   "source": [
    "residuals = model.resid\n",
    "\n",
    "sns.histplot(residuals, kde=True)\n",
    "plt.title(\"Reszty modelu\")\n",
    "plt.xlabel(\"Reszty\")\n",
    "plt.show()\n"
   ]
  },
  {
   "cell_type": "code",
   "execution_count": 1091,
   "metadata": {},
   "outputs": [
    {
     "name": "stdout",
     "output_type": "stream",
     "text": [
      "R2: 0.13754231280063955\n",
      "MSE: 7.094419176606794e-05\n",
      "                      Feature   Coefficient\n",
      "0                       const  0.000000e+00\n",
      "1  Bezrobotni_średnia_powiaty -1.708657e-01\n",
      "2               Ceny mieszkan -2.342634e-08\n",
      "3       Dochody na mieszkanca  3.390485e-06\n",
      "4               Wynagrodzenie  2.742329e-06\n",
      "5     Rozwody_średnia_powiaty  5.715649e+00\n"
     ]
    }
   ],
   "source": [
    "from sklearn.linear_model import LinearRegression\n",
    "from sklearn.model_selection import train_test_split\n",
    "from sklearn.metrics import mean_squared_error, r2_score\n",
    "\n",
    "X_train, X_test, y_train, y_test = train_test_split(X, y, test_size=0.2, random_state=42)\n",
    "\n",
    "model = LinearRegression()\n",
    "model.fit(X_train, y_train)\n",
    "\n",
    "y_pred = model.predict(X_test)\n",
    "\n",
    "print(\"R2:\", r2_score(y_test, y_pred))\n",
    "print(\"MSE:\", mean_squared_error(y_test, y_pred))\n",
    "\n",
    "coefficients = pd.DataFrame({'Feature': X.columns, 'Coefficient': model.coef_})\n",
    "print(coefficients)\n"
   ]
  }
 ],
 "metadata": {
  "kernelspec": {
   "display_name": "py10",
   "language": "python",
   "name": "python3"
  },
  "language_info": {
   "codemirror_mode": {
    "name": "ipython",
    "version": 3
   },
   "file_extension": ".py",
   "mimetype": "text/x-python",
   "name": "python",
   "nbconvert_exporter": "python",
   "pygments_lexer": "ipython3",
   "version": "3.10.6"
  }
 },
 "nbformat": 4,
 "nbformat_minor": 2
}
